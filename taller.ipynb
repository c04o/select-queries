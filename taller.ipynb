{
    "metadata": {
        "kernelspec": {
            "name": "SQL",
            "display_name": "SQL",
            "language": "sql"
        },
        "language_info": {
            "name": "sql",
            "version": ""
        }
    },
    "nbformat_minor": 2,
    "nbformat": 4,
    "cells": [
        {
            "cell_type": "markdown",
            "source": [
                "![Logo FIA.png](data:image/png;base64,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)\n",
                "# 🚀 Taller | Funciones de Agregado y Agrupaciones en SQL Server (T-SQL)\n",
                "**Base de datos: Northwind**\n",
                ""
            ],
            "metadata": {
                "azdata_cell_guid": "a9d060df-44f1-4e93-b84a-fbb275ba1d32"
            },
            "attachments": {}
        },
        {
            "cell_type": "markdown",
            "source": [
                "**Nombre:** <span style=\"background-color: rgb(255, 255, 0);\">Roderick Uziel Caldera Torrez</span>"
            ],
            "metadata": {
                "azdata_cell_guid": "fd636712-6365-4284-b5f5-2dae515e0465"
            },
            "attachments": {}
        },
        {
            "cell_type": "markdown",
            "source": [
                "## 📖 Introducción\n\n",
                "Las funciones de agregado permiten realizar cálculos sobre un conjunto de filas y devolver un solo valor. Son útiles para obtener resúmenes de datos, estadísticas o métricas.\n\n",
                "**Funciones comunes:**\n",
                "- `COUNT()` — Cuenta el número de filas\n",
                "- `SUM()` — Suma los valores de una columna numérica\n",
                "- `AVG()` — Calcula el promedio\n",
                "- `MIN()` — Devuelve el valor mínimo\n",
                "- `MAX()` — Devuelve el valor máximo\n\n",
                "`GROUP BY` permite agrupar filas según el valor de una o varias columnas, y aplicar funciones de agregado sobre cada grupo.\n\n",
                "`HAVING` permite filtrar grupos (después de agrupar), mientras que `WHERE` filtra filas (antes de agrupar)."
            ],
            "metadata": {
                "azdata_cell_guid": "abf6a683-f8d3-45f0-9700-f9012047f08b"
            }
        },
        {
            "cell_type": "markdown",
            "source": [
                "## 🧠 Ejercicios propuestos\n\nCada ejercicio debe resolverse en una celda de código T-SQL."
            ],
            "metadata": {
                "azdata_cell_guid": "355d8ed7-7257-4bda-8d9d-c12c5137b04e"
            }
        },
        {
            "cell_type": "markdown",
            "source": [
                "### 📝 Ejercicio 1\nMostrar el número de clientes que hay por país."
            ],
            "metadata": {
                "azdata_cell_guid": "a556a7b9-1a1a-43e0-b7c5-dc5fd0efc549"
            }
        },
        {
            "cell_type": "markdown",
            "source": [
                "- Contar cuanta gente hay por pais y agruparlas"
            ],
            "metadata": {
                "azdata_cell_guid": "f792ebba-a8ac-418a-b358-b0897d8355d2"
            },
            "attachments": {}
        },
        {
            "cell_type": "code",
            "source": [
                "SELECT Country, COUNT(*) AS NumeroClientes\r\n",
                "FROM Customers\r\n",
                "GROUP BY Country;"
            ],
            "metadata": {
                "azdata_cell_guid": "fd3118db-5d0b-4ba1-ab09-8547de957758",
                "language": "sql"
            },
            "outputs": [
                {
                    "output_type": "display_data",
                    "data": {
                        "text/html": "(21 rows affected)"
                    },
                    "metadata": {}
                },
                {
                    "output_type": "display_data",
                    "data": {
                        "text/html": "Total execution time: 00:00:00.003"
                    },
                    "metadata": {}
                },
                {
                    "output_type": "execute_result",
                    "metadata": {},
                    "execution_count": 5,
                    "data": {
                        "application/vnd.dataresource+json": {
                            "schema": {
                                "fields": [
                                    {
                                        "name": "Country"
                                    },
                                    {
                                        "name": "NumeroClientes"
                                    }
                                ]
                            },
                            "data": [
                                {
                                    "Country": "Argentina",
                                    "NumeroClientes": "3"
                                },
                                {
                                    "Country": "Austria",
                                    "NumeroClientes": "2"
                                },
                                {
                                    "Country": "Belgium",
                                    "NumeroClientes": "2"
                                },
                                {
                                    "Country": "Brazil",
                                    "NumeroClientes": "9"
                                },
                                {
                                    "Country": "Canada",
                                    "NumeroClientes": "3"
                                },
                                {
                                    "Country": "Denmark",
                                    "NumeroClientes": "2"
                                },
                                {
                                    "Country": "Finland",
                                    "NumeroClientes": "2"
                                },
                                {
                                    "Country": "France",
                                    "NumeroClientes": "11"
                                },
                                {
                                    "Country": "Germany",
                                    "NumeroClientes": "11"
                                },
                                {
                                    "Country": "Ireland",
                                    "NumeroClientes": "1"
                                },
                                {
                                    "Country": "Italy",
                                    "NumeroClientes": "3"
                                },
                                {
                                    "Country": "Mexico",
                                    "NumeroClientes": "5"
                                },
                                {
                                    "Country": "Norway",
                                    "NumeroClientes": "1"
                                },
                                {
                                    "Country": "Poland",
                                    "NumeroClientes": "1"
                                },
                                {
                                    "Country": "Portugal",
                                    "NumeroClientes": "2"
                                },
                                {
                                    "Country": "Spain",
                                    "NumeroClientes": "5"
                                },
                                {
                                    "Country": "Sweden",
                                    "NumeroClientes": "2"
                                },
                                {
                                    "Country": "Switzerland",
                                    "NumeroClientes": "2"
                                },
                                {
                                    "Country": "UK",
                                    "NumeroClientes": "7"
                                },
                                {
                                    "Country": "USA",
                                    "NumeroClientes": "13"
                                },
                                {
                                    "Country": "Venezuela",
                                    "NumeroClientes": "4"
                                }
                            ]
                        },
                        "text/html": [
                            "<table>",
                            "<tr><th>Country</th><th>NumeroClientes</th></tr>",
                            "<tr><td>Argentina</td><td>3</td></tr>",
                            "<tr><td>Austria</td><td>2</td></tr>",
                            "<tr><td>Belgium</td><td>2</td></tr>",
                            "<tr><td>Brazil</td><td>9</td></tr>",
                            "<tr><td>Canada</td><td>3</td></tr>",
                            "<tr><td>Denmark</td><td>2</td></tr>",
                            "<tr><td>Finland</td><td>2</td></tr>",
                            "<tr><td>France</td><td>11</td></tr>",
                            "<tr><td>Germany</td><td>11</td></tr>",
                            "<tr><td>Ireland</td><td>1</td></tr>",
                            "<tr><td>Italy</td><td>3</td></tr>",
                            "<tr><td>Mexico</td><td>5</td></tr>",
                            "<tr><td>Norway</td><td>1</td></tr>",
                            "<tr><td>Poland</td><td>1</td></tr>",
                            "<tr><td>Portugal</td><td>2</td></tr>",
                            "<tr><td>Spain</td><td>5</td></tr>",
                            "<tr><td>Sweden</td><td>2</td></tr>",
                            "<tr><td>Switzerland</td><td>2</td></tr>",
                            "<tr><td>UK</td><td>7</td></tr>",
                            "<tr><td>USA</td><td>13</td></tr>",
                            "<tr><td>Venezuela</td><td>4</td></tr>",
                            "</table>"
                        ]
                    }
                }
            ],
            "execution_count": 5
        },
        {
            "cell_type": "markdown",
            "source": [
                "### 📝 Ejercicio 2\nCalcular el número total de pedidos realizados en cada año."
            ],
            "metadata": {
                "azdata_cell_guid": "a51c6366-0c3b-4482-adef-491f794b8121"
            }
        },
        {
            "cell_type": "markdown",
            "source": [
                "- Contar los pedidos por anio"
            ],
            "metadata": {
                "azdata_cell_guid": "800e0a99-7e1d-4d3d-8b46-a5cb48d0b7d5"
            },
            "attachments": {}
        },
        {
            "cell_type": "code",
            "source": [
                "SELECT YEAR(OrderDate) AS Año, COUNT(*) AS NumeroPedidos\r\n",
                "FROM Orders\r\n",
                "GROUP BY YEAR(OrderDate);"
            ],
            "metadata": {
                "azdata_cell_guid": "f2fa0b65-6e59-4c2f-b873-2b52f75b85ee",
                "language": "sql"
            },
            "outputs": [
                {
                    "output_type": "display_data",
                    "data": {
                        "text/html": "(3 rows affected)"
                    },
                    "metadata": {}
                },
                {
                    "output_type": "display_data",
                    "data": {
                        "text/html": "Total execution time: 00:00:00.003"
                    },
                    "metadata": {}
                },
                {
                    "output_type": "execute_result",
                    "metadata": {},
                    "execution_count": 6,
                    "data": {
                        "application/vnd.dataresource+json": {
                            "schema": {
                                "fields": [
                                    {
                                        "name": "Año"
                                    },
                                    {
                                        "name": "NumeroPedidos"
                                    }
                                ]
                            },
                            "data": [
                                {
                                    "Año": "1998",
                                    "NumeroPedidos": "270"
                                },
                                {
                                    "Año": "1996",
                                    "NumeroPedidos": "152"
                                },
                                {
                                    "Año": "1997",
                                    "NumeroPedidos": "408"
                                }
                            ]
                        },
                        "text/html": [
                            "<table>",
                            "<tr><th>Año</th><th>NumeroPedidos</th></tr>",
                            "<tr><td>1998</td><td>270</td></tr>",
                            "<tr><td>1996</td><td>152</td></tr>",
                            "<tr><td>1997</td><td>408</td></tr>",
                            "</table>"
                        ]
                    }
                }
            ],
            "execution_count": 6
        },
        {
            "cell_type": "markdown",
            "source": [
                "### 📝 Ejercicio 3\nMostrar el precio promedio de los productos por cada categoría."
            ],
            "metadata": {
                "azdata_cell_guid": "4fa92b31-2f8a-4490-9e7f-e8f5246f07d5"
            }
        },
        {
            "cell_type": "markdown",
            "source": [
                "- Calcular el promedio de precios por categoria\n",
                "- Unir las categorias con aquellas que tengan ID"
            ],
            "metadata": {
                "azdata_cell_guid": "20f47c01-4244-4012-b6f0-10ca6bbaae5d"
            },
            "attachments": {}
        },
        {
            "cell_type": "code",
            "source": [
                "SELECT c.CategoryName AS Categoria, AVG(p.UnitPrice) AS PrecioPromedio\r\n",
                "FROM Products p\r\n",
                "INNER JOIN Categories c ON p.CategoryID = c.CategoryID\r\n",
                "GROUP BY c.CategoryName;"
            ],
            "metadata": {
                "azdata_cell_guid": "aecaee6c-b4ce-46f7-bc40-d8a9e8c3cad0",
                "language": "sql"
            },
            "outputs": [
                {
                    "output_type": "display_data",
                    "data": {
                        "text/html": "(8 rows affected)"
                    },
                    "metadata": {}
                },
                {
                    "output_type": "display_data",
                    "data": {
                        "text/html": "Total execution time: 00:00:00.017"
                    },
                    "metadata": {}
                },
                {
                    "output_type": "execute_result",
                    "metadata": {},
                    "execution_count": 7,
                    "data": {
                        "application/vnd.dataresource+json": {
                            "schema": {
                                "fields": [
                                    {
                                        "name": "Categoria"
                                    },
                                    {
                                        "name": "PrecioPromedio"
                                    }
                                ]
                            },
                            "data": [
                                {
                                    "Categoria": "Beverages",
                                    "PrecioPromedio": "37,9791"
                                },
                                {
                                    "Categoria": "Condiments",
                                    "PrecioPromedio": "23,0625"
                                },
                                {
                                    "Categoria": "Confections",
                                    "PrecioPromedio": "25,16"
                                },
                                {
                                    "Categoria": "Dairy Products",
                                    "PrecioPromedio": "28,73"
                                },
                                {
                                    "Categoria": "Grains/Cereals",
                                    "PrecioPromedio": "20,25"
                                },
                                {
                                    "Categoria": "Meat/Poultry",
                                    "PrecioPromedio": "54,0066"
                                },
                                {
                                    "Categoria": "Produce",
                                    "PrecioPromedio": "32,37"
                                },
                                {
                                    "Categoria": "Seafood",
                                    "PrecioPromedio": "20,6825"
                                }
                            ]
                        },
                        "text/html": [
                            "<table>",
                            "<tr><th>Categoria</th><th>PrecioPromedio</th></tr>",
                            "<tr><td>Beverages</td><td>37,9791</td></tr>",
                            "<tr><td>Condiments</td><td>23,0625</td></tr>",
                            "<tr><td>Confections</td><td>25,16</td></tr>",
                            "<tr><td>Dairy Products</td><td>28,73</td></tr>",
                            "<tr><td>Grains/Cereals</td><td>20,25</td></tr>",
                            "<tr><td>Meat/Poultry</td><td>54,0066</td></tr>",
                            "<tr><td>Produce</td><td>32,37</td></tr>",
                            "<tr><td>Seafood</td><td>20,6825</td></tr>",
                            "</table>"
                        ]
                    }
                }
            ],
            "execution_count": 7
        },
        {
            "cell_type": "markdown",
            "source": [
                "### 📝 Ejercicio 4\nObtener el total de ventas por cada empleado (sumando el subtotal de sus pedidos)."
            ],
            "metadata": {
                "azdata_cell_guid": "67f69768-e2d3-4ebd-9be9-4bf8515fbb33"
            }
        },
        {
            "cell_type": "markdown",
            "source": [
                "- Sumar lo vendido por empleado\n",
                "- Unir las ordenes con los empleados con ID\n",
                "- Unir los detalles de los pedidos para obtener el precio y la cantidad con pedidos con ID"
            ],
            "metadata": {
                "azdata_cell_guid": "c9d0f6ae-5ff1-47d3-a09c-19d88cc37124"
            },
            "attachments": {}
        },
        {
            "cell_type": "code",
            "source": [
                "SELECT e.EmployeeID, e.LastName + ' ' + e.FirstName AS Empleado, \r\n",
                "       SUM(od.UnitPrice * od.Quantity * (1 - od.Discount)) AS TotalVentas\r\n",
                "FROM Employees e\r\n",
                "INNER JOIN Orders o ON e.EmployeeID = o.EmployeeID\r\n",
                "INNER JOIN [Order Details] od ON o.OrderID = od.OrderID\r\n",
                "GROUP BY e.EmployeeID, e.LastName, e.FirstName;"
            ],
            "metadata": {
                "azdata_cell_guid": "f2f8f326-0c93-4c59-97d3-d70ed4324e86",
                "language": "sql"
            },
            "outputs": [
                {
                    "output_type": "display_data",
                    "data": {
                        "text/html": "(9 rows affected)"
                    },
                    "metadata": {}
                },
                {
                    "output_type": "display_data",
                    "data": {
                        "text/html": "Total execution time: 00:00:00.021"
                    },
                    "metadata": {}
                },
                {
                    "output_type": "execute_result",
                    "metadata": {},
                    "execution_count": 8,
                    "data": {
                        "application/vnd.dataresource+json": {
                            "schema": {
                                "fields": [
                                    {
                                        "name": "EmployeeID"
                                    },
                                    {
                                        "name": "Empleado"
                                    },
                                    {
                                        "name": "TotalVentas"
                                    }
                                ]
                            },
                            "data": [
                                {
                                    "EmployeeID": "9",
                                    "Empleado": "Dodsworth Anne",
                                    "TotalVentas": "77308,06670951843"
                                },
                                {
                                    "EmployeeID": "3",
                                    "Empleado": "Leverling Janet",
                                    "TotalVentas": "202812,84279346466"
                                },
                                {
                                    "EmployeeID": "6",
                                    "Empleado": "Suyama Michael",
                                    "TotalVentas": "73913,12924385071"
                                },
                                {
                                    "EmployeeID": "7",
                                    "Empleado": "King Robert",
                                    "TotalVentas": "124568,23538208008"
                                },
                                {
                                    "EmployeeID": "1",
                                    "Empleado": "Davolio Nancy",
                                    "TotalVentas": "192107,60432052612"
                                },
                                {
                                    "EmployeeID": "4",
                                    "Empleado": "Peacock Margaret",
                                    "TotalVentas": "232890,84594726562"
                                },
                                {
                                    "EmployeeID": "5",
                                    "Empleado": "Buchanan Steven",
                                    "TotalVentas": "68792,28253936768"
                                },
                                {
                                    "EmployeeID": "2",
                                    "Empleado": "Fuller Andrew",
                                    "TotalVentas": "166537,75497817993"
                                },
                                {
                                    "EmployeeID": "8",
                                    "Empleado": "Callahan Laura",
                                    "TotalVentas": "126862,27770423889"
                                }
                            ]
                        },
                        "text/html": [
                            "<table>",
                            "<tr><th>EmployeeID</th><th>Empleado</th><th>TotalVentas</th></tr>",
                            "<tr><td>9</td><td>Dodsworth Anne</td><td>77308,06670951843</td></tr>",
                            "<tr><td>3</td><td>Leverling Janet</td><td>202812,84279346466</td></tr>",
                            "<tr><td>6</td><td>Suyama Michael</td><td>73913,12924385071</td></tr>",
                            "<tr><td>7</td><td>King Robert</td><td>124568,23538208008</td></tr>",
                            "<tr><td>1</td><td>Davolio Nancy</td><td>192107,60432052612</td></tr>",
                            "<tr><td>4</td><td>Peacock Margaret</td><td>232890,84594726562</td></tr>",
                            "<tr><td>5</td><td>Buchanan Steven</td><td>68792,28253936768</td></tr>",
                            "<tr><td>2</td><td>Fuller Andrew</td><td>166537,75497817993</td></tr>",
                            "<tr><td>8</td><td>Callahan Laura</td><td>126862,27770423889</td></tr>",
                            "</table>"
                        ]
                    }
                }
            ],
            "execution_count": 8
        },
        {
            "cell_type": "markdown",
            "source": [
                "### 📝 Ejercicio 5\nMostrar el número de productos distintos que se han vendido en cada pedido."
            ],
            "metadata": {
                "azdata_cell_guid": "54dd78ea-483f-4b3a-8b5d-ec6c85a30d13"
            }
        },
        {
            "cell_type": "markdown",
            "source": [
                "- Seleccionar los pedidos con ID distinto"
            ],
            "metadata": {
                "azdata_cell_guid": "4913042e-387d-4968-b00b-d96540f350fe"
            },
            "attachments": {}
        },
        {
            "cell_type": "code",
            "source": [
                "SELECT OrderID AS Pedido, COUNT(DISTINCT ProductID) AS ProductosDistintos\r\n",
                "FROM [Order Details]\r\n",
                "GROUP BY OrderID;"
            ],
            "metadata": {
                "azdata_cell_guid": "0cb66c11-84d5-4a07-8e2b-5e2bb1fe3923",
                "language": "sql"
            },
            "outputs": [
                {
                    "output_type": "display_data",
                    "data": {
                        "text/html": "(830 rows affected)"
                    },
                    "metadata": {}
                },
                {
                    "output_type": "display_data",
                    "data": {
                        "text/html": "Total execution time: 00:00:00.017"
                    },
                    "metadata": {}
                },
                {
                    "output_type": "execute_result",
                    "metadata": {},
                    "execution_count": 9,
                    "data": {
                        "application/vnd.dataresource+json": {
                            "schema": {
                                "fields": [
                                    {
                                        "name": "Pedido"
                                    },
                                    {
                                        "name": "ProductosDistintos"
                                    }
                                ]
                            },
                            "data": [
                                {
                                    "Pedido": "10248",
                                    "ProductosDistintos": "3"
                                },
                                {
                                    "Pedido": "10249",
                                    "ProductosDistintos": "2"
                                },
                                {
                                    "Pedido": "10250",
                                    "ProductosDistintos": "3"
                                },
                                {
                                    "Pedido": "10251",
                                    "ProductosDistintos": "3"
                                },
                                {
                                    "Pedido": "10252",
                                    "ProductosDistintos": "3"
                                },
                                {
                                    "Pedido": "10253",
                                    "ProductosDistintos": "3"
                                },
                                {
                                    "Pedido": "10254",
                                    "ProductosDistintos": "3"
                                },
                                {
                                    "Pedido": "10255",
                                    "ProductosDistintos": "4"
                                },
                                {
                                    "Pedido": "10256",
                                    "ProductosDistintos": "2"
                                },
                                {
                                    "Pedido": "10257",
                                    "ProductosDistintos": "3"
                                },
                                {
                                    "Pedido": "10258",
                                    "ProductosDistintos": "3"
                                },
                                {
                                    "Pedido": "10259",
                                    "ProductosDistintos": "2"
                                },
                                {
                                    "Pedido": "10260",
                                    "ProductosDistintos": "4"
                                },
                                {
                                    "Pedido": "10261",
                                    "ProductosDistintos": "2"
                                },
                                {
                                    "Pedido": "10262",
                                    "ProductosDistintos": "3"
                                },
                                {
                                    "Pedido": "10263",
                                    "ProductosDistintos": "4"
                                },
                                {
                                    "Pedido": "10264",
                                    "ProductosDistintos": "2"
                                },
                                {
                                    "Pedido": "10265",
                                    "ProductosDistintos": "2"
                                },
                                {
                                    "Pedido": "10266",
                                    "ProductosDistintos": "1"
                                },
                                {
                                    "Pedido": "10267",
                                    "ProductosDistintos": "3"
                                },
                                {
                                    "Pedido": "10268",
                                    "ProductosDistintos": "2"
                                },
                                {
                                    "Pedido": "10269",
                                    "ProductosDistintos": "2"
                                },
                                {
                                    "Pedido": "10270",
                                    "ProductosDistintos": "2"
                                },
                                {
                                    "Pedido": "10271",
                                    "ProductosDistintos": "1"
                                },
                                {
                                    "Pedido": "10272",
                                    "ProductosDistintos": "3"
                                },
                                {
                                    "Pedido": "10273",
                                    "ProductosDistintos": "5"
                                },
                                {
                                    "Pedido": "10274",
                                    "ProductosDistintos": "2"
                                },
                                {
                                    "Pedido": "10275",
                                    "ProductosDistintos": "2"
                                },
                                {
                                    "Pedido": "10276",
                                    "ProductosDistintos": "2"
                                },
                                {
                                    "Pedido": "10277",
                                    "ProductosDistintos": "2"
                                },
                                {
                                    "Pedido": "10278",
                                    "ProductosDistintos": "4"
                                },
                                {
                                    "Pedido": "10279",
                                    "ProductosDistintos": "1"
                                },
                                {
                                    "Pedido": "10280",
                                    "ProductosDistintos": "3"
                                },
                                {
                                    "Pedido": "10281",
                                    "ProductosDistintos": "3"
                                },
                                {
                                    "Pedido": "10282",
                                    "ProductosDistintos": "2"
                                },
                                {
                                    "Pedido": "10283",
                                    "ProductosDistintos": "4"
                                },
                                {
                                    "Pedido": "10284",
                                    "ProductosDistintos": "4"
                                },
                                {
                                    "Pedido": "10285",
                                    "ProductosDistintos": "3"
                                },
                                {
                                    "Pedido": "10286",
                                    "ProductosDistintos": "2"
                                },
                                {
                                    "Pedido": "10287",
                                    "ProductosDistintos": "3"
                                },
                                {
                                    "Pedido": "10288",
                                    "ProductosDistintos": "2"
                                },
                                {
                                    "Pedido": "10289",
                                    "ProductosDistintos": "2"
                                },
                                {
                                    "Pedido": "10290",
                                    "ProductosDistintos": "4"
                                },
                                {
                                    "Pedido": "10291",
                                    "ProductosDistintos": "3"
                                },
                                {
                                    "Pedido": "10292",
                                    "ProductosDistintos": "1"
                                },
                                {
                                    "Pedido": "10293",
                                    "ProductosDistintos": "4"
                                },
                                {
                                    "Pedido": "10294",
                                    "ProductosDistintos": "5"
                                },
                                {
                                    "Pedido": "10295",
                                    "ProductosDistintos": "1"
                                },
                                {
                                    "Pedido": "10296",
                                    "ProductosDistintos": "3"
                                },
                                {
                                    "Pedido": "10297",
                                    "ProductosDistintos": "2"
                                },
                                {
                                    "Pedido": "10298",
                                    "ProductosDistintos": "4"
                                },
                                {
                                    "Pedido": "10299",
                                    "ProductosDistintos": "2"
                                },
                                {
                                    "Pedido": "10300",
                                    "ProductosDistintos": "2"
                                },
                                {
                                    "Pedido": "10301",
                                    "ProductosDistintos": "2"
                                },
                                {
                                    "Pedido": "10302",
                                    "ProductosDistintos": "3"
                                },
                                {
                                    "Pedido": "10303",
                                    "ProductosDistintos": "3"
                                },
                                {
                                    "Pedido": "10304",
                                    "ProductosDistintos": "3"
                                },
                                {
                                    "Pedido": "10305",
                                    "ProductosDistintos": "3"
                                },
                                {
                                    "Pedido": "10306",
                                    "ProductosDistintos": "3"
                                },
                                {
                                    "Pedido": "10307",
                                    "ProductosDistintos": "2"
                                },
                                {
                                    "Pedido": "10308",
                                    "ProductosDistintos": "2"
                                },
                                {
                                    "Pedido": "10309",
                                    "ProductosDistintos": "5"
                                },
                                {
                                    "Pedido": "10310",
                                    "ProductosDistintos": "2"
                                },
                                {
                                    "Pedido": "10311",
                                    "ProductosDistintos": "2"
                                },
                                {
                                    "Pedido": "10312",
                                    "ProductosDistintos": "4"
                                },
                                {
                                    "Pedido": "10313",
                                    "ProductosDistintos": "1"
                                },
                                {
                                    "Pedido": "10314",
                                    "ProductosDistintos": "3"
                                },
                                {
                                    "Pedido": "10315",
                                    "ProductosDistintos": "2"
                                },
                                {
                                    "Pedido": "10316",
                                    "ProductosDistintos": "2"
                                },
                                {
                                    "Pedido": "10317",
                                    "ProductosDistintos": "1"
                                },
                                {
                                    "Pedido": "10318",
                                    "ProductosDistintos": "2"
                                },
                                {
                                    "Pedido": "10319",
                                    "ProductosDistintos": "3"
                                },
                                {
                                    "Pedido": "10320",
                                    "ProductosDistintos": "1"
                                },
                                {
                                    "Pedido": "10321",
                                    "ProductosDistintos": "1"
                                },
                                {
                                    "Pedido": "10322",
                                    "ProductosDistintos": "1"
                                },
                                {
                                    "Pedido": "10323",
                                    "ProductosDistintos": "3"
                                },
                                {
                                    "Pedido": "10324",
                                    "ProductosDistintos": "5"
                                },
                                {
                                    "Pedido": "10325",
                                    "ProductosDistintos": "5"
                                },
                                {
                                    "Pedido": "10326",
                                    "ProductosDistintos": "3"
                                },
                                {
                                    "Pedido": "10327",
                                    "ProductosDistintos": "4"
                                },
                                {
                                    "Pedido": "10328",
                                    "ProductosDistintos": "3"
                                },
                                {
                                    "Pedido": "10329",
                                    "ProductosDistintos": "4"
                                },
                                {
                                    "Pedido": "10330",
                                    "ProductosDistintos": "2"
                                },
                                {
                                    "Pedido": "10331",
                                    "ProductosDistintos": "1"
                                },
                                {
                                    "Pedido": "10332",
                                    "ProductosDistintos": "3"
                                },
                                {
                                    "Pedido": "10333",
                                    "ProductosDistintos": "3"
                                },
                                {
                                    "Pedido": "10334",
                                    "ProductosDistintos": "2"
                                },
                                {
                                    "Pedido": "10335",
                                    "ProductosDistintos": "4"
                                },
                                {
                                    "Pedido": "10336",
                                    "ProductosDistintos": "1"
                                },
                                {
                                    "Pedido": "10337",
                                    "ProductosDistintos": "5"
                                },
                                {
                                    "Pedido": "10338",
                                    "ProductosDistintos": "2"
                                },
                                {
                                    "Pedido": "10339",
                                    "ProductosDistintos": "3"
                                },
                                {
                                    "Pedido": "10340",
                                    "ProductosDistintos": "3"
                                },
                                {
                                    "Pedido": "10341",
                                    "ProductosDistintos": "2"
                                },
                                {
                                    "Pedido": "10342",
                                    "ProductosDistintos": "4"
                                },
                                {
                                    "Pedido": "10343",
                                    "ProductosDistintos": "3"
                                },
                                {
                                    "Pedido": "10344",
                                    "ProductosDistintos": "2"
                                },
                                {
                                    "Pedido": "10345",
                                    "ProductosDistintos": "3"
                                },
                                {
                                    "Pedido": "10346",
                                    "ProductosDistintos": "2"
                                },
                                {
                                    "Pedido": "10347",
                                    "ProductosDistintos": "4"
                                },
                                {
                                    "Pedido": "10348",
                                    "ProductosDistintos": "2"
                                },
                                {
                                    "Pedido": "10349",
                                    "ProductosDistintos": "1"
                                },
                                {
                                    "Pedido": "10350",
                                    "ProductosDistintos": "2"
                                },
                                {
                                    "Pedido": "10351",
                                    "ProductosDistintos": "4"
                                },
                                {
                                    "Pedido": "10352",
                                    "ProductosDistintos": "2"
                                },
                                {
                                    "Pedido": "10353",
                                    "ProductosDistintos": "2"
                                },
                                {
                                    "Pedido": "10354",
                                    "ProductosDistintos": "2"
                                },
                                {
                                    "Pedido": "10355",
                                    "ProductosDistintos": "2"
                                },
                                {
                                    "Pedido": "10356",
                                    "ProductosDistintos": "3"
                                },
                                {
                                    "Pedido": "10357",
                                    "ProductosDistintos": "3"
                                },
                                {
                                    "Pedido": "10358",
                                    "ProductosDistintos": "3"
                                },
                                {
                                    "Pedido": "10359",
                                    "ProductosDistintos": "3"
                                },
                                {
                                    "Pedido": "10360",
                                    "ProductosDistintos": "5"
                                },
                                {
                                    "Pedido": "10361",
                                    "ProductosDistintos": "2"
                                },
                                {
                                    "Pedido": "10362",
                                    "ProductosDistintos": "3"
                                },
                                {
                                    "Pedido": "10363",
                                    "ProductosDistintos": "3"
                                },
                                {
                                    "Pedido": "10364",
                                    "ProductosDistintos": "2"
                                },
                                {
                                    "Pedido": "10365",
                                    "ProductosDistintos": "1"
                                },
                                {
                                    "Pedido": "10366",
                                    "ProductosDistintos": "2"
                                },
                                {
                                    "Pedido": "10367",
                                    "ProductosDistintos": "4"
                                },
                                {
                                    "Pedido": "10368",
                                    "ProductosDistintos": "4"
                                },
                                {
                                    "Pedido": "10369",
                                    "ProductosDistintos": "2"
                                },
                                {
                                    "Pedido": "10370",
                                    "ProductosDistintos": "3"
                                },
                                {
                                    "Pedido": "10371",
                                    "ProductosDistintos": "1"
                                },
                                {
                                    "Pedido": "10372",
                                    "ProductosDistintos": "4"
                                },
                                {
                                    "Pedido": "10373",
                                    "ProductosDistintos": "2"
                                },
                                {
                                    "Pedido": "10374",
                                    "ProductosDistintos": "2"
                                },
                                {
                                    "Pedido": "10375",
                                    "ProductosDistintos": "2"
                                },
                                {
                                    "Pedido": "10376",
                                    "ProductosDistintos": "1"
                                },
                                {
                                    "Pedido": "10377",
                                    "ProductosDistintos": "2"
                                },
                                {
                                    "Pedido": "10378",
                                    "ProductosDistintos": "1"
                                },
                                {
                                    "Pedido": "10379",
                                    "ProductosDistintos": "3"
                                },
                                {
                                    "Pedido": "10380",
                                    "ProductosDistintos": "4"
                                },
                                {
                                    "Pedido": "10381",
                                    "ProductosDistintos": "1"
                                },
                                {
                                    "Pedido": "10382",
                                    "ProductosDistintos": "5"
                                },
                                {
                                    "Pedido": "10383",
                                    "ProductosDistintos": "3"
                                },
                                {
                                    "Pedido": "10384",
                                    "ProductosDistintos": "2"
                                },
                                {
                                    "Pedido": "10385",
                                    "ProductosDistintos": "3"
                                },
                                {
                                    "Pedido": "10386",
                                    "ProductosDistintos": "2"
                                },
                                {
                                    "Pedido": "10387",
                                    "ProductosDistintos": "4"
                                },
                                {
                                    "Pedido": "10388",
                                    "ProductosDistintos": "3"
                                },
                                {
                                    "Pedido": "10389",
                                    "ProductosDistintos": "4"
                                },
                                {
                                    "Pedido": "10390",
                                    "ProductosDistintos": "4"
                                },
                                {
                                    "Pedido": "10391",
                                    "ProductosDistintos": "1"
                                },
                                {
                                    "Pedido": "10392",
                                    "ProductosDistintos": "1"
                                },
                                {
                                    "Pedido": "10393",
                                    "ProductosDistintos": "5"
                                },
                                {
                                    "Pedido": "10394",
                                    "ProductosDistintos": "2"
                                },
                                {
                                    "Pedido": "10395",
                                    "ProductosDistintos": "3"
                                },
                                {
                                    "Pedido": "10396",
                                    "ProductosDistintos": "3"
                                },
                                {
                                    "Pedido": "10397",
                                    "ProductosDistintos": "2"
                                },
                                {
                                    "Pedido": "10398",
                                    "ProductosDistintos": "2"
                                },
                                {
                                    "Pedido": "10399",
                                    "ProductosDistintos": "4"
                                },
                                {
                                    "Pedido": "10400",
                                    "ProductosDistintos": "3"
                                },
                                {
                                    "Pedido": "10401",
                                    "ProductosDistintos": "4"
                                },
                                {
                                    "Pedido": "10402",
                                    "ProductosDistintos": "2"
                                },
                                {
                                    "Pedido": "10403",
                                    "ProductosDistintos": "2"
                                },
                                {
                                    "Pedido": "10404",
                                    "ProductosDistintos": "3"
                                },
                                {
                                    "Pedido": "10405",
                                    "ProductosDistintos": "1"
                                },
                                {
                                    "Pedido": "10406",
                                    "ProductosDistintos": "5"
                                },
                                {
                                    "Pedido": "10407",
                                    "ProductosDistintos": "3"
                                },
                                {
                                    "Pedido": "10408",
                                    "ProductosDistintos": "3"
                                },
                                {
                                    "Pedido": "10409",
                                    "ProductosDistintos": "2"
                                },
                                {
                                    "Pedido": "10410",
                                    "ProductosDistintos": "2"
                                },
                                {
                                    "Pedido": "10411",
                                    "ProductosDistintos": "3"
                                },
                                {
                                    "Pedido": "10412",
                                    "ProductosDistintos": "1"
                                },
                                {
                                    "Pedido": "10413",
                                    "ProductosDistintos": "3"
                                },
                                {
                                    "Pedido": "10414",
                                    "ProductosDistintos": "2"
                                },
                                {
                                    "Pedido": "10415",
                                    "ProductosDistintos": "2"
                                },
                                {
                                    "Pedido": "10416",
                                    "ProductosDistintos": "3"
                                },
                                {
                                    "Pedido": "10417",
                                    "ProductosDistintos": "4"
                                },
                                {
                                    "Pedido": "10418",
                                    "ProductosDistintos": "4"
                                },
                                {
                                    "Pedido": "10419",
                                    "ProductosDistintos": "2"
                                },
                                {
                                    "Pedido": "10420",
                                    "ProductosDistintos": "4"
                                },
                                {
                                    "Pedido": "10421",
                                    "ProductosDistintos": "4"
                                },
                                {
                                    "Pedido": "10422",
                                    "ProductosDistintos": "1"
                                },
                                {
                                    "Pedido": "10423",
                                    "ProductosDistintos": "2"
                                },
                                {
                                    "Pedido": "10424",
                                    "ProductosDistintos": "3"
                                },
                                {
                                    "Pedido": "10425",
                                    "ProductosDistintos": "2"
                                },
                                {
                                    "Pedido": "10426",
                                    "ProductosDistintos": "2"
                                },
                                {
                                    "Pedido": "10427",
                                    "ProductosDistintos": "1"
                                },
                                {
                                    "Pedido": "10428",
                                    "ProductosDistintos": "1"
                                },
                                {
                                    "Pedido": "10429",
                                    "ProductosDistintos": "2"
                                },
                                {
                                    "Pedido": "10430",
                                    "ProductosDistintos": "4"
                                },
                                {
                                    "Pedido": "10431",
                                    "ProductosDistintos": "3"
                                },
                                {
                                    "Pedido": "10432",
                                    "ProductosDistintos": "2"
                                },
                                {
                                    "Pedido": "10433",
                                    "ProductosDistintos": "1"
                                },
                                {
                                    "Pedido": "10434",
                                    "ProductosDistintos": "2"
                                },
                                {
                                    "Pedido": "10435",
                                    "ProductosDistintos": "3"
                                },
                                {
                                    "Pedido": "10436",
                                    "ProductosDistintos": "4"
                                },
                                {
                                    "Pedido": "10437",
                                    "ProductosDistintos": "1"
                                },
                                {
                                    "Pedido": "10438",
                                    "ProductosDistintos": "3"
                                },
                                {
                                    "Pedido": "10439",
                                    "ProductosDistintos": "4"
                                },
                                {
                                    "Pedido": "10440",
                                    "ProductosDistintos": "4"
                                },
                                {
                                    "Pedido": "10441",
                                    "ProductosDistintos": "1"
                                },
                                {
                                    "Pedido": "10442",
                                    "ProductosDistintos": "3"
                                },
                                {
                                    "Pedido": "10443",
                                    "ProductosDistintos": "2"
                                },
                                {
                                    "Pedido": "10444",
                                    "ProductosDistintos": "4"
                                },
                                {
                                    "Pedido": "10445",
                                    "ProductosDistintos": "2"
                                },
                                {
                                    "Pedido": "10446",
                                    "ProductosDistintos": "4"
                                },
                                {
                                    "Pedido": "10447",
                                    "ProductosDistintos": "3"
                                },
                                {
                                    "Pedido": "10448",
                                    "ProductosDistintos": "2"
                                },
                                {
                                    "Pedido": "10449",
                                    "ProductosDistintos": "3"
                                },
                                {
                                    "Pedido": "10450",
                                    "ProductosDistintos": "2"
                                },
                                {
                                    "Pedido": "10451",
                                    "ProductosDistintos": "4"
                                },
                                {
                                    "Pedido": "10452",
                                    "ProductosDistintos": "2"
                                },
                                {
                                    "Pedido": "10453",
                                    "ProductosDistintos": "2"
                                },
                                {
                                    "Pedido": "10454",
                                    "ProductosDistintos": "3"
                                },
                                {
                                    "Pedido": "10455",
                                    "ProductosDistintos": "4"
                                },
                                {
                                    "Pedido": "10456",
                                    "ProductosDistintos": "2"
                                },
                                {
                                    "Pedido": "10457",
                                    "ProductosDistintos": "1"
                                },
                                {
                                    "Pedido": "10458",
                                    "ProductosDistintos": "5"
                                },
                                {
                                    "Pedido": "10459",
                                    "ProductosDistintos": "3"
                                },
                                {
                                    "Pedido": "10460",
                                    "ProductosDistintos": "2"
                                },
                                {
                                    "Pedido": "10461",
                                    "ProductosDistintos": "3"
                                },
                                {
                                    "Pedido": "10462",
                                    "ProductosDistintos": "2"
                                },
                                {
                                    "Pedido": "10463",
                                    "ProductosDistintos": "2"
                                },
                                {
                                    "Pedido": "10464",
                                    "ProductosDistintos": "4"
                                },
                                {
                                    "Pedido": "10465",
                                    "ProductosDistintos": "5"
                                },
                                {
                                    "Pedido": "10466",
                                    "ProductosDistintos": "2"
                                },
                                {
                                    "Pedido": "10467",
                                    "ProductosDistintos": "2"
                                },
                                {
                                    "Pedido": "10468",
                                    "ProductosDistintos": "2"
                                },
                                {
                                    "Pedido": "10469",
                                    "ProductosDistintos": "3"
                                },
                                {
                                    "Pedido": "10470",
                                    "ProductosDistintos": "3"
                                },
                                {
                                    "Pedido": "10471",
                                    "ProductosDistintos": "2"
                                },
                                {
                                    "Pedido": "10472",
                                    "ProductosDistintos": "2"
                                },
                                {
                                    "Pedido": "10473",
                                    "ProductosDistintos": "2"
                                },
                                {
                                    "Pedido": "10474",
                                    "ProductosDistintos": "4"
                                },
                                {
                                    "Pedido": "10475",
                                    "ProductosDistintos": "3"
                                },
                                {
                                    "Pedido": "10476",
                                    "ProductosDistintos": "2"
                                },
                                {
                                    "Pedido": "10477",
                                    "ProductosDistintos": "3"
                                },
                                {
                                    "Pedido": "10478",
                                    "ProductosDistintos": "1"
                                },
                                {
                                    "Pedido": "10479",
                                    "ProductosDistintos": "4"
                                },
                                {
                                    "Pedido": "10480",
                                    "ProductosDistintos": "2"
                                },
                                {
                                    "Pedido": "10481",
                                    "ProductosDistintos": "2"
                                },
                                {
                                    "Pedido": "10482",
                                    "ProductosDistintos": "1"
                                },
                                {
                                    "Pedido": "10483",
                                    "ProductosDistintos": "2"
                                },
                                {
                                    "Pedido": "10484",
                                    "ProductosDistintos": "3"
                                },
                                {
                                    "Pedido": "10485",
                                    "ProductosDistintos": "4"
                                },
                                {
                                    "Pedido": "10486",
                                    "ProductosDistintos": "3"
                                },
                                {
                                    "Pedido": "10487",
                                    "ProductosDistintos": "3"
                                },
                                {
                                    "Pedido": "10488",
                                    "ProductosDistintos": "2"
                                },
                                {
                                    "Pedido": "10489",
                                    "ProductosDistintos": "2"
                                },
                                {
                                    "Pedido": "10490",
                                    "ProductosDistintos": "3"
                                },
                                {
                                    "Pedido": "10491",
                                    "ProductosDistintos": "2"
                                },
                                {
                                    "Pedido": "10492",
                                    "ProductosDistintos": "2"
                                },
                                {
                                    "Pedido": "10493",
                                    "ProductosDistintos": "3"
                                },
                                {
                                    "Pedido": "10494",
                                    "ProductosDistintos": "1"
                                },
                                {
                                    "Pedido": "10495",
                                    "ProductosDistintos": "3"
                                },
                                {
                                    "Pedido": "10496",
                                    "ProductosDistintos": "1"
                                },
                                {
                                    "Pedido": "10497",
                                    "ProductosDistintos": "3"
                                },
                                {
                                    "Pedido": "10498",
                                    "ProductosDistintos": "3"
                                },
                                {
                                    "Pedido": "10499",
                                    "ProductosDistintos": "2"
                                },
                                {
                                    "Pedido": "10500",
                                    "ProductosDistintos": "2"
                                },
                                {
                                    "Pedido": "10501",
                                    "ProductosDistintos": "1"
                                },
                                {
                                    "Pedido": "10502",
                                    "ProductosDistintos": "3"
                                },
                                {
                                    "Pedido": "10503",
                                    "ProductosDistintos": "2"
                                },
                                {
                                    "Pedido": "10504",
                                    "ProductosDistintos": "4"
                                },
                                {
                                    "Pedido": "10505",
                                    "ProductosDistintos": "1"
                                },
                                {
                                    "Pedido": "10506",
                                    "ProductosDistintos": "2"
                                },
                                {
                                    "Pedido": "10507",
                                    "ProductosDistintos": "2"
                                },
                                {
                                    "Pedido": "10508",
                                    "ProductosDistintos": "2"
                                },
                                {
                                    "Pedido": "10509",
                                    "ProductosDistintos": "1"
                                },
                                {
                                    "Pedido": "10510",
                                    "ProductosDistintos": "2"
                                },
                                {
                                    "Pedido": "10511",
                                    "ProductosDistintos": "3"
                                },
                                {
                                    "Pedido": "10512",
                                    "ProductosDistintos": "4"
                                },
                                {
                                    "Pedido": "10513",
                                    "ProductosDistintos": "3"
                                },
                                {
                                    "Pedido": "10514",
                                    "ProductosDistintos": "5"
                                },
                                {
                                    "Pedido": "10515",
                                    "ProductosDistintos": "5"
                                },
                                {
                                    "Pedido": "10516",
                                    "ProductosDistintos": "3"
                                },
                                {
                                    "Pedido": "10517",
                                    "ProductosDistintos": "3"
                                },
                                {
                                    "Pedido": "10518",
                                    "ProductosDistintos": "3"
                                },
                                {
                                    "Pedido": "10519",
                                    "ProductosDistintos": "3"
                                },
                                {
                                    "Pedido": "10520",
                                    "ProductosDistintos": "2"
                                },
                                {
                                    "Pedido": "10521",
                                    "ProductosDistintos": "3"
                                },
                                {
                                    "Pedido": "10522",
                                    "ProductosDistintos": "4"
                                },
                                {
                                    "Pedido": "10523",
                                    "ProductosDistintos": "4"
                                },
                                {
                                    "Pedido": "10524",
                                    "ProductosDistintos": "4"
                                },
                                {
                                    "Pedido": "10525",
                                    "ProductosDistintos": "2"
                                },
                                {
                                    "Pedido": "10526",
                                    "ProductosDistintos": "3"
                                },
                                {
                                    "Pedido": "10527",
                                    "ProductosDistintos": "2"
                                },
                                {
                                    "Pedido": "10528",
                                    "ProductosDistintos": "3"
                                },
                                {
                                    "Pedido": "10529",
                                    "ProductosDistintos": "3"
                                },
                                {
                                    "Pedido": "10530",
                                    "ProductosDistintos": "4"
                                },
                                {
                                    "Pedido": "10531",
                                    "ProductosDistintos": "1"
                                },
                                {
                                    "Pedido": "10532",
                                    "ProductosDistintos": "2"
                                },
                                {
                                    "Pedido": "10533",
                                    "ProductosDistintos": "3"
                                },
                                {
                                    "Pedido": "10534",
                                    "ProductosDistintos": "3"
                                },
                                {
                                    "Pedido": "10535",
                                    "ProductosDistintos": "4"
                                },
                                {
                                    "Pedido": "10536",
                                    "ProductosDistintos": "4"
                                },
                                {
                                    "Pedido": "10537",
                                    "ProductosDistintos": "5"
                                },
                                {
                                    "Pedido": "10538",
                                    "ProductosDistintos": "2"
                                },
                                {
                                    "Pedido": "10539",
                                    "ProductosDistintos": "4"
                                },
                                {
                                    "Pedido": "10540",
                                    "ProductosDistintos": "4"
                                },
                                {
                                    "Pedido": "10541",
                                    "ProductosDistintos": "4"
                                },
                                {
                                    "Pedido": "10542",
                                    "ProductosDistintos": "2"
                                },
                                {
                                    "Pedido": "10543",
                                    "ProductosDistintos": "2"
                                },
                                {
                                    "Pedido": "10544",
                                    "ProductosDistintos": "2"
                                },
                                {
                                    "Pedido": "10545",
                                    "ProductosDistintos": "1"
                                },
                                {
                                    "Pedido": "10546",
                                    "ProductosDistintos": "3"
                                },
                                {
                                    "Pedido": "10547",
                                    "ProductosDistintos": "2"
                                },
                                {
                                    "Pedido": "10548",
                                    "ProductosDistintos": "2"
                                },
                                {
                                    "Pedido": "10549",
                                    "ProductosDistintos": "3"
                                },
                                {
                                    "Pedido": "10550",
                                    "ProductosDistintos": "4"
                                },
                                {
                                    "Pedido": "10551",
                                    "ProductosDistintos": "3"
                                },
                                {
                                    "Pedido": "10552",
                                    "ProductosDistintos": "2"
                                },
                                {
                                    "Pedido": "10553",
                                    "ProductosDistintos": "5"
                                },
                                {
                                    "Pedido": "10554",
                                    "ProductosDistintos": "4"
                                },
                                {
                                    "Pedido": "10555",
                                    "ProductosDistintos": "5"
                                },
                                {
                                    "Pedido": "10556",
                                    "ProductosDistintos": "1"
                                },
                                {
                                    "Pedido": "10557",
                                    "ProductosDistintos": "2"
                                },
                                {
                                    "Pedido": "10558",
                                    "ProductosDistintos": "5"
                                },
                                {
                                    "Pedido": "10559",
                                    "ProductosDistintos": "2"
                                },
                                {
                                    "Pedido": "10560",
                                    "ProductosDistintos": "2"
                                },
                                {
                                    "Pedido": "10561",
                                    "ProductosDistintos": "2"
                                },
                                {
                                    "Pedido": "10562",
                                    "ProductosDistintos": "2"
                                },
                                {
                                    "Pedido": "10563",
                                    "ProductosDistintos": "2"
                                },
                                {
                                    "Pedido": "10564",
                                    "ProductosDistintos": "3"
                                },
                                {
                                    "Pedido": "10565",
                                    "ProductosDistintos": "2"
                                },
                                {
                                    "Pedido": "10566",
                                    "ProductosDistintos": "3"
                                },
                                {
                                    "Pedido": "10567",
                                    "ProductosDistintos": "3"
                                },
                                {
                                    "Pedido": "10568",
                                    "ProductosDistintos": "1"
                                },
                                {
                                    "Pedido": "10569",
                                    "ProductosDistintos": "2"
                                },
                                {
                                    "Pedido": "10570",
                                    "ProductosDistintos": "2"
                                },
                                {
                                    "Pedido": "10571",
                                    "ProductosDistintos": "2"
                                },
                                {
                                    "Pedido": "10572",
                                    "ProductosDistintos": "4"
                                },
                                {
                                    "Pedido": "10573",
                                    "ProductosDistintos": "3"
                                },
                                {
                                    "Pedido": "10574",
                                    "ProductosDistintos": "4"
                                },
                                {
                                    "Pedido": "10575",
                                    "ProductosDistintos": "4"
                                },
                                {
                                    "Pedido": "10576",
                                    "ProductosDistintos": "3"
                                },
                                {
                                    "Pedido": "10577",
                                    "ProductosDistintos": "3"
                                },
                                {
                                    "Pedido": "10578",
                                    "ProductosDistintos": "2"
                                },
                                {
                                    "Pedido": "10579",
                                    "ProductosDistintos": "2"
                                },
                                {
                                    "Pedido": "10580",
                                    "ProductosDistintos": "3"
                                },
                                {
                                    "Pedido": "10581",
                                    "ProductosDistintos": "1"
                                },
                                {
                                    "Pedido": "10582",
                                    "ProductosDistintos": "2"
                                },
                                {
                                    "Pedido": "10583",
                                    "ProductosDistintos": "3"
                                },
                                {
                                    "Pedido": "10584",
                                    "ProductosDistintos": "1"
                                },
                                {
                                    "Pedido": "10585",
                                    "ProductosDistintos": "1"
                                },
                                {
                                    "Pedido": "10586",
                                    "ProductosDistintos": "1"
                                },
                                {
                                    "Pedido": "10587",
                                    "ProductosDistintos": "3"
                                },
                                {
                                    "Pedido": "10588",
                                    "ProductosDistintos": "2"
                                },
                                {
                                    "Pedido": "10589",
                                    "ProductosDistintos": "1"
                                },
                                {
                                    "Pedido": "10590",
                                    "ProductosDistintos": "2"
                                },
                                {
                                    "Pedido": "10591",
                                    "ProductosDistintos": "3"
                                },
                                {
                                    "Pedido": "10592",
                                    "ProductosDistintos": "2"
                                },
                                {
                                    "Pedido": "10593",
                                    "ProductosDistintos": "3"
                                },
                                {
                                    "Pedido": "10594",
                                    "ProductosDistintos": "2"
                                },
                                {
                                    "Pedido": "10595",
                                    "ProductosDistintos": "3"
                                },
                                {
                                    "Pedido": "10596",
                                    "ProductosDistintos": "3"
                                },
                                {
                                    "Pedido": "10597",
                                    "ProductosDistintos": "3"
                                },
                                {
                                    "Pedido": "10598",
                                    "ProductosDistintos": "2"
                                },
                                {
                                    "Pedido": "10599",
                                    "ProductosDistintos": "1"
                                },
                                {
                                    "Pedido": "10600",
                                    "ProductosDistintos": "2"
                                },
                                {
                                    "Pedido": "10601",
                                    "ProductosDistintos": "2"
                                },
                                {
                                    "Pedido": "10602",
                                    "ProductosDistintos": "1"
                                },
                                {
                                    "Pedido": "10603",
                                    "ProductosDistintos": "2"
                                },
                                {
                                    "Pedido": "10604",
                                    "ProductosDistintos": "2"
                                },
                                {
                                    "Pedido": "10605",
                                    "ProductosDistintos": "4"
                                },
                                {
                                    "Pedido": "10606",
                                    "ProductosDistintos": "3"
                                },
                                {
                                    "Pedido": "10607",
                                    "ProductosDistintos": "5"
                                },
                                {
                                    "Pedido": "10608",
                                    "ProductosDistintos": "1"
                                },
                                {
                                    "Pedido": "10609",
                                    "ProductosDistintos": "3"
                                },
                                {
                                    "Pedido": "10610",
                                    "ProductosDistintos": "1"
                                },
                                {
                                    "Pedido": "10611",
                                    "ProductosDistintos": "3"
                                },
                                {
                                    "Pedido": "10612",
                                    "ProductosDistintos": "5"
                                },
                                {
                                    "Pedido": "10613",
                                    "ProductosDistintos": "2"
                                },
                                {
                                    "Pedido": "10614",
                                    "ProductosDistintos": "3"
                                },
                                {
                                    "Pedido": "10615",
                                    "ProductosDistintos": "1"
                                },
                                {
                                    "Pedido": "10616",
                                    "ProductosDistintos": "4"
                                },
                                {
                                    "Pedido": "10617",
                                    "ProductosDistintos": "1"
                                },
                                {
                                    "Pedido": "10618",
                                    "ProductosDistintos": "3"
                                },
                                {
                                    "Pedido": "10619",
                                    "ProductosDistintos": "2"
                                },
                                {
                                    "Pedido": "10620",
                                    "ProductosDistintos": "2"
                                },
                                {
                                    "Pedido": "10621",
                                    "ProductosDistintos": "4"
                                },
                                {
                                    "Pedido": "10622",
                                    "ProductosDistintos": "2"
                                },
                                {
                                    "Pedido": "10623",
                                    "ProductosDistintos": "5"
                                },
                                {
                                    "Pedido": "10624",
                                    "ProductosDistintos": "3"
                                },
                                {
                                    "Pedido": "10625",
                                    "ProductosDistintos": "3"
                                },
                                {
                                    "Pedido": "10626",
                                    "ProductosDistintos": "3"
                                },
                                {
                                    "Pedido": "10627",
                                    "ProductosDistintos": "2"
                                },
                                {
                                    "Pedido": "10628",
                                    "ProductosDistintos": "1"
                                },
                                {
                                    "Pedido": "10629",
                                    "ProductosDistintos": "2"
                                },
                                {
                                    "Pedido": "10630",
                                    "ProductosDistintos": "2"
                                },
                                {
                                    "Pedido": "10631",
                                    "ProductosDistintos": "1"
                                },
                                {
                                    "Pedido": "10632",
                                    "ProductosDistintos": "2"
                                },
                                {
                                    "Pedido": "10633",
                                    "ProductosDistintos": "4"
                                },
                                {
                                    "Pedido": "10634",
                                    "ProductosDistintos": "4"
                                },
                                {
                                    "Pedido": "10635",
                                    "ProductosDistintos": "3"
                                },
                                {
                                    "Pedido": "10636",
                                    "ProductosDistintos": "2"
                                },
                                {
                                    "Pedido": "10637",
                                    "ProductosDistintos": "3"
                                },
                                {
                                    "Pedido": "10638",
                                    "ProductosDistintos": "3"
                                },
                                {
                                    "Pedido": "10639",
                                    "ProductosDistintos": "1"
                                },
                                {
                                    "Pedido": "10640",
                                    "ProductosDistintos": "2"
                                },
                                {
                                    "Pedido": "10641",
                                    "ProductosDistintos": "2"
                                },
                                {
                                    "Pedido": "10642",
                                    "ProductosDistintos": "2"
                                },
                                {
                                    "Pedido": "10643",
                                    "ProductosDistintos": "3"
                                },
                                {
                                    "Pedido": "10644",
                                    "ProductosDistintos": "3"
                                },
                                {
                                    "Pedido": "10645",
                                    "ProductosDistintos": "2"
                                },
                                {
                                    "Pedido": "10646",
                                    "ProductosDistintos": "4"
                                },
                                {
                                    "Pedido": "10647",
                                    "ProductosDistintos": "2"
                                },
                                {
                                    "Pedido": "10648",
                                    "ProductosDistintos": "2"
                                },
                                {
                                    "Pedido": "10649",
                                    "ProductosDistintos": "2"
                                },
                                {
                                    "Pedido": "10650",
                                    "ProductosDistintos": "3"
                                },
                                {
                                    "Pedido": "10651",
                                    "ProductosDistintos": "2"
                                },
                                {
                                    "Pedido": "10652",
                                    "ProductosDistintos": "2"
                                },
                                {
                                    "Pedido": "10653",
                                    "ProductosDistintos": "2"
                                },
                                {
                                    "Pedido": "10654",
                                    "ProductosDistintos": "3"
                                },
                                {
                                    "Pedido": "10655",
                                    "ProductosDistintos": "1"
                                },
                                {
                                    "Pedido": "10656",
                                    "ProductosDistintos": "3"
                                },
                                {
                                    "Pedido": "10657",
                                    "ProductosDistintos": "6"
                                },
                                {
                                    "Pedido": "10658",
                                    "ProductosDistintos": "4"
                                },
                                {
                                    "Pedido": "10659",
                                    "ProductosDistintos": "3"
                                },
                                {
                                    "Pedido": "10660",
                                    "ProductosDistintos": "1"
                                },
                                {
                                    "Pedido": "10661",
                                    "ProductosDistintos": "2"
                                },
                                {
                                    "Pedido": "10662",
                                    "ProductosDistintos": "1"
                                },
                                {
                                    "Pedido": "10663",
                                    "ProductosDistintos": "3"
                                },
                                {
                                    "Pedido": "10664",
                                    "ProductosDistintos": "3"
                                },
                                {
                                    "Pedido": "10665",
                                    "ProductosDistintos": "3"
                                },
                                {
                                    "Pedido": "10666",
                                    "ProductosDistintos": "2"
                                },
                                {
                                    "Pedido": "10667",
                                    "ProductosDistintos": "2"
                                },
                                {
                                    "Pedido": "10668",
                                    "ProductosDistintos": "3"
                                },
                                {
                                    "Pedido": "10669",
                                    "ProductosDistintos": "1"
                                },
                                {
                                    "Pedido": "10670",
                                    "ProductosDistintos": "5"
                                },
                                {
                                    "Pedido": "10671",
                                    "ProductosDistintos": "3"
                                },
                                {
                                    "Pedido": "10672",
                                    "ProductosDistintos": "2"
                                },
                                {
                                    "Pedido": "10673",
                                    "ProductosDistintos": "3"
                                },
                                {
                                    "Pedido": "10674",
                                    "ProductosDistintos": "1"
                                },
                                {
                                    "Pedido": "10675",
                                    "ProductosDistintos": "3"
                                },
                                {
                                    "Pedido": "10676",
                                    "ProductosDistintos": "3"
                                },
                                {
                                    "Pedido": "10677",
                                    "ProductosDistintos": "2"
                                },
                                {
                                    "Pedido": "10678",
                                    "ProductosDistintos": "4"
                                },
                                {
                                    "Pedido": "10679",
                                    "ProductosDistintos": "1"
                                },
                                {
                                    "Pedido": "10680",
                                    "ProductosDistintos": "3"
                                },
                                {
                                    "Pedido": "10681",
                                    "ProductosDistintos": "3"
                                },
                                {
                                    "Pedido": "10682",
                                    "ProductosDistintos": "3"
                                },
                                {
                                    "Pedido": "10683",
                                    "ProductosDistintos": "1"
                                },
                                {
                                    "Pedido": "10684",
                                    "ProductosDistintos": "3"
                                },
                                {
                                    "Pedido": "10685",
                                    "ProductosDistintos": "3"
                                },
                                {
                                    "Pedido": "10686",
                                    "ProductosDistintos": "2"
                                },
                                {
                                    "Pedido": "10687",
                                    "ProductosDistintos": "3"
                                },
                                {
                                    "Pedido": "10688",
                                    "ProductosDistintos": "3"
                                },
                                {
                                    "Pedido": "10689",
                                    "ProductosDistintos": "1"
                                },
                                {
                                    "Pedido": "10690",
                                    "ProductosDistintos": "2"
                                },
                                {
                                    "Pedido": "10691",
                                    "ProductosDistintos": "5"
                                },
                                {
                                    "Pedido": "10692",
                                    "ProductosDistintos": "1"
                                },
                                {
                                    "Pedido": "10693",
                                    "ProductosDistintos": "4"
                                },
                                {
                                    "Pedido": "10694",
                                    "ProductosDistintos": "3"
                                },
                                {
                                    "Pedido": "10695",
                                    "ProductosDistintos": "3"
                                },
                                {
                                    "Pedido": "10696",
                                    "ProductosDistintos": "2"
                                },
                                {
                                    "Pedido": "10697",
                                    "ProductosDistintos": "4"
                                },
                                {
                                    "Pedido": "10698",
                                    "ProductosDistintos": "5"
                                },
                                {
                                    "Pedido": "10699",
                                    "ProductosDistintos": "1"
                                },
                                {
                                    "Pedido": "10700",
                                    "ProductosDistintos": "4"
                                },
                                {
                                    "Pedido": "10701",
                                    "ProductosDistintos": "3"
                                },
                                {
                                    "Pedido": "10702",
                                    "ProductosDistintos": "2"
                                },
                                {
                                    "Pedido": "10703",
                                    "ProductosDistintos": "3"
                                },
                                {
                                    "Pedido": "10704",
                                    "ProductosDistintos": "3"
                                },
                                {
                                    "Pedido": "10705",
                                    "ProductosDistintos": "2"
                                },
                                {
                                    "Pedido": "10706",
                                    "ProductosDistintos": "3"
                                },
                                {
                                    "Pedido": "10707",
                                    "ProductosDistintos": "3"
                                },
                                {
                                    "Pedido": "10708",
                                    "ProductosDistintos": "2"
                                },
                                {
                                    "Pedido": "10709",
                                    "ProductosDistintos": "3"
                                },
                                {
                                    "Pedido": "10710",
                                    "ProductosDistintos": "2"
                                },
                                {
                                    "Pedido": "10711",
                                    "ProductosDistintos": "3"
                                },
                                {
                                    "Pedido": "10712",
                                    "ProductosDistintos": "2"
                                },
                                {
                                    "Pedido": "10713",
                                    "ProductosDistintos": "4"
                                },
                                {
                                    "Pedido": "10714",
                                    "ProductosDistintos": "5"
                                },
                                {
                                    "Pedido": "10715",
                                    "ProductosDistintos": "2"
                                },
                                {
                                    "Pedido": "10716",
                                    "ProductosDistintos": "3"
                                },
                                {
                                    "Pedido": "10717",
                                    "ProductosDistintos": "3"
                                },
                                {
                                    "Pedido": "10718",
                                    "ProductosDistintos": "4"
                                },
                                {
                                    "Pedido": "10719",
                                    "ProductosDistintos": "3"
                                },
                                {
                                    "Pedido": "10720",
                                    "ProductosDistintos": "2"
                                },
                                {
                                    "Pedido": "10721",
                                    "ProductosDistintos": "1"
                                },
                                {
                                    "Pedido": "10722",
                                    "ProductosDistintos": "4"
                                },
                                {
                                    "Pedido": "10723",
                                    "ProductosDistintos": "1"
                                },
                                {
                                    "Pedido": "10724",
                                    "ProductosDistintos": "2"
                                },
                                {
                                    "Pedido": "10725",
                                    "ProductosDistintos": "3"
                                },
                                {
                                    "Pedido": "10726",
                                    "ProductosDistintos": "2"
                                },
                                {
                                    "Pedido": "10727",
                                    "ProductosDistintos": "3"
                                },
                                {
                                    "Pedido": "10728",
                                    "ProductosDistintos": "4"
                                },
                                {
                                    "Pedido": "10729",
                                    "ProductosDistintos": "3"
                                },
                                {
                                    "Pedido": "10730",
                                    "ProductosDistintos": "3"
                                },
                                {
                                    "Pedido": "10731",
                                    "ProductosDistintos": "2"
                                },
                                {
                                    "Pedido": "10732",
                                    "ProductosDistintos": "1"
                                },
                                {
                                    "Pedido": "10733",
                                    "ProductosDistintos": "3"
                                },
                                {
                                    "Pedido": "10734",
                                    "ProductosDistintos": "3"
                                },
                                {
                                    "Pedido": "10735",
                                    "ProductosDistintos": "2"
                                },
                                {
                                    "Pedido": "10736",
                                    "ProductosDistintos": "2"
                                },
                                {
                                    "Pedido": "10737",
                                    "ProductosDistintos": "2"
                                },
                                {
                                    "Pedido": "10738",
                                    "ProductosDistintos": "1"
                                },
                                {
                                    "Pedido": "10739",
                                    "ProductosDistintos": "2"
                                },
                                {
                                    "Pedido": "10740",
                                    "ProductosDistintos": "4"
                                },
                                {
                                    "Pedido": "10741",
                                    "ProductosDistintos": "1"
                                },
                                {
                                    "Pedido": "10742",
                                    "ProductosDistintos": "3"
                                },
                                {
                                    "Pedido": "10743",
                                    "ProductosDistintos": "1"
                                },
                                {
                                    "Pedido": "10744",
                                    "ProductosDistintos": "1"
                                },
                                {
                                    "Pedido": "10745",
                                    "ProductosDistintos": "4"
                                },
                                {
                                    "Pedido": "10746",
                                    "ProductosDistintos": "4"
                                },
                                {
                                    "Pedido": "10747",
                                    "ProductosDistintos": "4"
                                },
                                {
                                    "Pedido": "10748",
                                    "ProductosDistintos": "3"
                                },
                                {
                                    "Pedido": "10749",
                                    "ProductosDistintos": "3"
                                },
                                {
                                    "Pedido": "10750",
                                    "ProductosDistintos": "3"
                                },
                                {
                                    "Pedido": "10751",
                                    "ProductosDistintos": "4"
                                },
                                {
                                    "Pedido": "10752",
                                    "ProductosDistintos": "2"
                                },
                                {
                                    "Pedido": "10753",
                                    "ProductosDistintos": "2"
                                },
                                {
                                    "Pedido": "10754",
                                    "ProductosDistintos": "1"
                                },
                                {
                                    "Pedido": "10755",
                                    "ProductosDistintos": "4"
                                },
                                {
                                    "Pedido": "10756",
                                    "ProductosDistintos": "4"
                                },
                                {
                                    "Pedido": "10757",
                                    "ProductosDistintos": "4"
                                },
                                {
                                    "Pedido": "10758",
                                    "ProductosDistintos": "3"
                                },
                                {
                                    "Pedido": "10759",
                                    "ProductosDistintos": "1"
                                },
                                {
                                    "Pedido": "10760",
                                    "ProductosDistintos": "3"
                                },
                                {
                                    "Pedido": "10761",
                                    "ProductosDistintos": "2"
                                },
                                {
                                    "Pedido": "10762",
                                    "ProductosDistintos": "4"
                                },
                                {
                                    "Pedido": "10763",
                                    "ProductosDistintos": "3"
                                },
                                {
                                    "Pedido": "10764",
                                    "ProductosDistintos": "2"
                                },
                                {
                                    "Pedido": "10765",
                                    "ProductosDistintos": "1"
                                },
                                {
                                    "Pedido": "10766",
                                    "ProductosDistintos": "3"
                                },
                                {
                                    "Pedido": "10767",
                                    "ProductosDistintos": "1"
                                },
                                {
                                    "Pedido": "10768",
                                    "ProductosDistintos": "4"
                                },
                                {
                                    "Pedido": "10769",
                                    "ProductosDistintos": "4"
                                },
                                {
                                    "Pedido": "10770",
                                    "ProductosDistintos": "1"
                                },
                                {
                                    "Pedido": "10771",
                                    "ProductosDistintos": "1"
                                },
                                {
                                    "Pedido": "10772",
                                    "ProductosDistintos": "2"
                                },
                                {
                                    "Pedido": "10773",
                                    "ProductosDistintos": "3"
                                },
                                {
                                    "Pedido": "10774",
                                    "ProductosDistintos": "2"
                                },
                                {
                                    "Pedido": "10775",
                                    "ProductosDistintos": "2"
                                },
                                {
                                    "Pedido": "10776",
                                    "ProductosDistintos": "4"
                                },
                                {
                                    "Pedido": "10777",
                                    "ProductosDistintos": "1"
                                },
                                {
                                    "Pedido": "10778",
                                    "ProductosDistintos": "1"
                                },
                                {
                                    "Pedido": "10779",
                                    "ProductosDistintos": "2"
                                },
                                {
                                    "Pedido": "10780",
                                    "ProductosDistintos": "2"
                                },
                                {
                                    "Pedido": "10781",
                                    "ProductosDistintos": "3"
                                },
                                {
                                    "Pedido": "10782",
                                    "ProductosDistintos": "1"
                                },
                                {
                                    "Pedido": "10783",
                                    "ProductosDistintos": "2"
                                },
                                {
                                    "Pedido": "10784",
                                    "ProductosDistintos": "3"
                                },
                                {
                                    "Pedido": "10785",
                                    "ProductosDistintos": "2"
                                },
                                {
                                    "Pedido": "10786",
                                    "ProductosDistintos": "3"
                                },
                                {
                                    "Pedido": "10787",
                                    "ProductosDistintos": "2"
                                },
                                {
                                    "Pedido": "10788",
                                    "ProductosDistintos": "2"
                                },
                                {
                                    "Pedido": "10789",
                                    "ProductosDistintos": "4"
                                },
                                {
                                    "Pedido": "10790",
                                    "ProductosDistintos": "2"
                                },
                                {
                                    "Pedido": "10791",
                                    "ProductosDistintos": "2"
                                },
                                {
                                    "Pedido": "10792",
                                    "ProductosDistintos": "3"
                                },
                                {
                                    "Pedido": "10793",
                                    "ProductosDistintos": "2"
                                },
                                {
                                    "Pedido": "10794",
                                    "ProductosDistintos": "2"
                                },
                                {
                                    "Pedido": "10795",
                                    "ProductosDistintos": "2"
                                },
                                {
                                    "Pedido": "10796",
                                    "ProductosDistintos": "4"
                                },
                                {
                                    "Pedido": "10797",
                                    "ProductosDistintos": "1"
                                },
                                {
                                    "Pedido": "10798",
                                    "ProductosDistintos": "2"
                                },
                                {
                                    "Pedido": "10799",
                                    "ProductosDistintos": "3"
                                },
                                {
                                    "Pedido": "10800",
                                    "ProductosDistintos": "3"
                                },
                                {
                                    "Pedido": "10801",
                                    "ProductosDistintos": "2"
                                },
                                {
                                    "Pedido": "10802",
                                    "ProductosDistintos": "4"
                                },
                                {
                                    "Pedido": "10803",
                                    "ProductosDistintos": "3"
                                },
                                {
                                    "Pedido": "10804",
                                    "ProductosDistintos": "3"
                                },
                                {
                                    "Pedido": "10805",
                                    "ProductosDistintos": "2"
                                },
                                {
                                    "Pedido": "10806",
                                    "ProductosDistintos": "3"
                                },
                                {
                                    "Pedido": "10807",
                                    "ProductosDistintos": "1"
                                },
                                {
                                    "Pedido": "10808",
                                    "ProductosDistintos": "2"
                                },
                                {
                                    "Pedido": "10809",
                                    "ProductosDistintos": "1"
                                },
                                {
                                    "Pedido": "10810",
                                    "ProductosDistintos": "3"
                                },
                                {
                                    "Pedido": "10811",
                                    "ProductosDistintos": "3"
                                },
                                {
                                    "Pedido": "10812",
                                    "ProductosDistintos": "3"
                                },
                                {
                                    "Pedido": "10813",
                                    "ProductosDistintos": "2"
                                },
                                {
                                    "Pedido": "10814",
                                    "ProductosDistintos": "4"
                                },
                                {
                                    "Pedido": "10815",
                                    "ProductosDistintos": "1"
                                },
                                {
                                    "Pedido": "10816",
                                    "ProductosDistintos": "2"
                                },
                                {
                                    "Pedido": "10817",
                                    "ProductosDistintos": "4"
                                },
                                {
                                    "Pedido": "10818",
                                    "ProductosDistintos": "2"
                                },
                                {
                                    "Pedido": "10819",
                                    "ProductosDistintos": "2"
                                },
                                {
                                    "Pedido": "10820",
                                    "ProductosDistintos": "1"
                                },
                                {
                                    "Pedido": "10821",
                                    "ProductosDistintos": "2"
                                },
                                {
                                    "Pedido": "10822",
                                    "ProductosDistintos": "2"
                                },
                                {
                                    "Pedido": "10823",
                                    "ProductosDistintos": "4"
                                },
                                {
                                    "Pedido": "10824",
                                    "ProductosDistintos": "2"
                                },
                                {
                                    "Pedido": "10825",
                                    "ProductosDistintos": "2"
                                },
                                {
                                    "Pedido": "10826",
                                    "ProductosDistintos": "2"
                                },
                                {
                                    "Pedido": "10827",
                                    "ProductosDistintos": "2"
                                },
                                {
                                    "Pedido": "10828",
                                    "ProductosDistintos": "2"
                                },
                                {
                                    "Pedido": "10829",
                                    "ProductosDistintos": "4"
                                },
                                {
                                    "Pedido": "10830",
                                    "ProductosDistintos": "4"
                                },
                                {
                                    "Pedido": "10831",
                                    "ProductosDistintos": "4"
                                },
                                {
                                    "Pedido": "10832",
                                    "ProductosDistintos": "4"
                                },
                                {
                                    "Pedido": "10833",
                                    "ProductosDistintos": "3"
                                },
                                {
                                    "Pedido": "10834",
                                    "ProductosDistintos": "2"
                                },
                                {
                                    "Pedido": "10835",
                                    "ProductosDistintos": "2"
                                },
                                {
                                    "Pedido": "10836",
                                    "ProductosDistintos": "5"
                                },
                                {
                                    "Pedido": "10837",
                                    "ProductosDistintos": "4"
                                },
                                {
                                    "Pedido": "10838",
                                    "ProductosDistintos": "3"
                                },
                                {
                                    "Pedido": "10839",
                                    "ProductosDistintos": "2"
                                },
                                {
                                    "Pedido": "10840",
                                    "ProductosDistintos": "2"
                                },
                                {
                                    "Pedido": "10841",
                                    "ProductosDistintos": "4"
                                },
                                {
                                    "Pedido": "10842",
                                    "ProductosDistintos": "4"
                                },
                                {
                                    "Pedido": "10843",
                                    "ProductosDistintos": "1"
                                },
                                {
                                    "Pedido": "10844",
                                    "ProductosDistintos": "1"
                                },
                                {
                                    "Pedido": "10845",
                                    "ProductosDistintos": "5"
                                },
                                {
                                    "Pedido": "10846",
                                    "ProductosDistintos": "3"
                                },
                                {
                                    "Pedido": "10847",
                                    "ProductosDistintos": "6"
                                },
                                {
                                    "Pedido": "10848",
                                    "ProductosDistintos": "2"
                                },
                                {
                                    "Pedido": "10849",
                                    "ProductosDistintos": "2"
                                },
                                {
                                    "Pedido": "10850",
                                    "ProductosDistintos": "3"
                                },
                                {
                                    "Pedido": "10851",
                                    "ProductosDistintos": "4"
                                },
                                {
                                    "Pedido": "10852",
                                    "ProductosDistintos": "3"
                                },
                                {
                                    "Pedido": "10853",
                                    "ProductosDistintos": "1"
                                },
                                {
                                    "Pedido": "10854",
                                    "ProductosDistintos": "2"
                                },
                                {
                                    "Pedido": "10855",
                                    "ProductosDistintos": "4"
                                },
                                {
                                    "Pedido": "10856",
                                    "ProductosDistintos": "2"
                                },
                                {
                                    "Pedido": "10857",
                                    "ProductosDistintos": "3"
                                },
                                {
                                    "Pedido": "10858",
                                    "ProductosDistintos": "3"
                                },
                                {
                                    "Pedido": "10859",
                                    "ProductosDistintos": "3"
                                },
                                {
                                    "Pedido": "10860",
                                    "ProductosDistintos": "2"
                                },
                                {
                                    "Pedido": "10861",
                                    "ProductosDistintos": "5"
                                },
                                {
                                    "Pedido": "10862",
                                    "ProductosDistintos": "2"
                                },
                                {
                                    "Pedido": "10863",
                                    "ProductosDistintos": "2"
                                },
                                {
                                    "Pedido": "10864",
                                    "ProductosDistintos": "2"
                                },
                                {
                                    "Pedido": "10865",
                                    "ProductosDistintos": "2"
                                },
                                {
                                    "Pedido": "10866",
                                    "ProductosDistintos": "3"
                                },
                                {
                                    "Pedido": "10867",
                                    "ProductosDistintos": "1"
                                },
                                {
                                    "Pedido": "10868",
                                    "ProductosDistintos": "3"
                                },
                                {
                                    "Pedido": "10869",
                                    "ProductosDistintos": "4"
                                },
                                {
                                    "Pedido": "10870",
                                    "ProductosDistintos": "2"
                                },
                                {
                                    "Pedido": "10871",
                                    "ProductosDistintos": "3"
                                },
                                {
                                    "Pedido": "10872",
                                    "ProductosDistintos": "4"
                                },
                                {
                                    "Pedido": "10873",
                                    "ProductosDistintos": "2"
                                },
                                {
                                    "Pedido": "10874",
                                    "ProductosDistintos": "1"
                                },
                                {
                                    "Pedido": "10875",
                                    "ProductosDistintos": "3"
                                },
                                {
                                    "Pedido": "10876",
                                    "ProductosDistintos": "2"
                                },
                                {
                                    "Pedido": "10877",
                                    "ProductosDistintos": "2"
                                },
                                {
                                    "Pedido": "10878",
                                    "ProductosDistintos": "1"
                                },
                                {
                                    "Pedido": "10879",
                                    "ProductosDistintos": "3"
                                },
                                {
                                    "Pedido": "10880",
                                    "ProductosDistintos": "3"
                                },
                                {
                                    "Pedido": "10881",
                                    "ProductosDistintos": "1"
                                },
                                {
                                    "Pedido": "10882",
                                    "ProductosDistintos": "3"
                                },
                                {
                                    "Pedido": "10883",
                                    "ProductosDistintos": "1"
                                },
                                {
                                    "Pedido": "10884",
                                    "ProductosDistintos": "3"
                                },
                                {
                                    "Pedido": "10885",
                                    "ProductosDistintos": "4"
                                },
                                {
                                    "Pedido": "10886",
                                    "ProductosDistintos": "3"
                                },
                                {
                                    "Pedido": "10887",
                                    "ProductosDistintos": "1"
                                },
                                {
                                    "Pedido": "10888",
                                    "ProductosDistintos": "2"
                                },
                                {
                                    "Pedido": "10889",
                                    "ProductosDistintos": "2"
                                },
                                {
                                    "Pedido": "10890",
                                    "ProductosDistintos": "3"
                                },
                                {
                                    "Pedido": "10891",
                                    "ProductosDistintos": "1"
                                },
                                {
                                    "Pedido": "10892",
                                    "ProductosDistintos": "1"
                                },
                                {
                                    "Pedido": "10893",
                                    "ProductosDistintos": "5"
                                },
                                {
                                    "Pedido": "10894",
                                    "ProductosDistintos": "3"
                                },
                                {
                                    "Pedido": "10895",
                                    "ProductosDistintos": "4"
                                },
                                {
                                    "Pedido": "10896",
                                    "ProductosDistintos": "2"
                                },
                                {
                                    "Pedido": "10897",
                                    "ProductosDistintos": "2"
                                },
                                {
                                    "Pedido": "10898",
                                    "ProductosDistintos": "1"
                                },
                                {
                                    "Pedido": "10899",
                                    "ProductosDistintos": "1"
                                },
                                {
                                    "Pedido": "10900",
                                    "ProductosDistintos": "1"
                                },
                                {
                                    "Pedido": "10901",
                                    "ProductosDistintos": "2"
                                },
                                {
                                    "Pedido": "10902",
                                    "ProductosDistintos": "2"
                                },
                                {
                                    "Pedido": "10903",
                                    "ProductosDistintos": "3"
                                },
                                {
                                    "Pedido": "10904",
                                    "ProductosDistintos": "2"
                                },
                                {
                                    "Pedido": "10905",
                                    "ProductosDistintos": "1"
                                },
                                {
                                    "Pedido": "10906",
                                    "ProductosDistintos": "1"
                                },
                                {
                                    "Pedido": "10907",
                                    "ProductosDistintos": "1"
                                },
                                {
                                    "Pedido": "10908",
                                    "ProductosDistintos": "2"
                                },
                                {
                                    "Pedido": "10909",
                                    "ProductosDistintos": "3"
                                },
                                {
                                    "Pedido": "10910",
                                    "ProductosDistintos": "3"
                                },
                                {
                                    "Pedido": "10911",
                                    "ProductosDistintos": "3"
                                },
                                {
                                    "Pedido": "10912",
                                    "ProductosDistintos": "2"
                                },
                                {
                                    "Pedido": "10913",
                                    "ProductosDistintos": "3"
                                },
                                {
                                    "Pedido": "10914",
                                    "ProductosDistintos": "1"
                                },
                                {
                                    "Pedido": "10915",
                                    "ProductosDistintos": "3"
                                },
                                {
                                    "Pedido": "10916",
                                    "ProductosDistintos": "3"
                                },
                                {
                                    "Pedido": "10917",
                                    "ProductosDistintos": "2"
                                },
                                {
                                    "Pedido": "10918",
                                    "ProductosDistintos": "2"
                                },
                                {
                                    "Pedido": "10919",
                                    "ProductosDistintos": "3"
                                },
                                {
                                    "Pedido": "10920",
                                    "ProductosDistintos": "1"
                                },
                                {
                                    "Pedido": "10921",
                                    "ProductosDistintos": "2"
                                },
                                {
                                    "Pedido": "10922",
                                    "ProductosDistintos": "2"
                                },
                                {
                                    "Pedido": "10923",
                                    "ProductosDistintos": "3"
                                },
                                {
                                    "Pedido": "10924",
                                    "ProductosDistintos": "3"
                                },
                                {
                                    "Pedido": "10925",
                                    "ProductosDistintos": "2"
                                },
                                {
                                    "Pedido": "10926",
                                    "ProductosDistintos": "4"
                                },
                                {
                                    "Pedido": "10927",
                                    "ProductosDistintos": "3"
                                },
                                {
                                    "Pedido": "10928",
                                    "ProductosDistintos": "2"
                                },
                                {
                                    "Pedido": "10929",
                                    "ProductosDistintos": "3"
                                },
                                {
                                    "Pedido": "10930",
                                    "ProductosDistintos": "4"
                                },
                                {
                                    "Pedido": "10931",
                                    "ProductosDistintos": "2"
                                },
                                {
                                    "Pedido": "10932",
                                    "ProductosDistintos": "4"
                                },
                                {
                                    "Pedido": "10933",
                                    "ProductosDistintos": "2"
                                },
                                {
                                    "Pedido": "10934",
                                    "ProductosDistintos": "1"
                                },
                                {
                                    "Pedido": "10935",
                                    "ProductosDistintos": "3"
                                },
                                {
                                    "Pedido": "10936",
                                    "ProductosDistintos": "1"
                                },
                                {
                                    "Pedido": "10937",
                                    "ProductosDistintos": "2"
                                },
                                {
                                    "Pedido": "10938",
                                    "ProductosDistintos": "4"
                                },
                                {
                                    "Pedido": "10939",
                                    "ProductosDistintos": "2"
                                },
                                {
                                    "Pedido": "10940",
                                    "ProductosDistintos": "2"
                                },
                                {
                                    "Pedido": "10941",
                                    "ProductosDistintos": "4"
                                },
                                {
                                    "Pedido": "10942",
                                    "ProductosDistintos": "1"
                                },
                                {
                                    "Pedido": "10943",
                                    "ProductosDistintos": "3"
                                },
                                {
                                    "Pedido": "10944",
                                    "ProductosDistintos": "3"
                                },
                                {
                                    "Pedido": "10945",
                                    "ProductosDistintos": "2"
                                },
                                {
                                    "Pedido": "10946",
                                    "ProductosDistintos": "3"
                                },
                                {
                                    "Pedido": "10947",
                                    "ProductosDistintos": "1"
                                },
                                {
                                    "Pedido": "10948",
                                    "ProductosDistintos": "3"
                                },
                                {
                                    "Pedido": "10949",
                                    "ProductosDistintos": "4"
                                },
                                {
                                    "Pedido": "10950",
                                    "ProductosDistintos": "1"
                                },
                                {
                                    "Pedido": "10951",
                                    "ProductosDistintos": "3"
                                },
                                {
                                    "Pedido": "10952",
                                    "ProductosDistintos": "2"
                                },
                                {
                                    "Pedido": "10953",
                                    "ProductosDistintos": "2"
                                },
                                {
                                    "Pedido": "10954",
                                    "ProductosDistintos": "4"
                                },
                                {
                                    "Pedido": "10955",
                                    "ProductosDistintos": "1"
                                },
                                {
                                    "Pedido": "10956",
                                    "ProductosDistintos": "3"
                                },
                                {
                                    "Pedido": "10957",
                                    "ProductosDistintos": "3"
                                },
                                {
                                    "Pedido": "10958",
                                    "ProductosDistintos": "3"
                                },
                                {
                                    "Pedido": "10959",
                                    "ProductosDistintos": "1"
                                },
                                {
                                    "Pedido": "10960",
                                    "ProductosDistintos": "2"
                                },
                                {
                                    "Pedido": "10961",
                                    "ProductosDistintos": "2"
                                },
                                {
                                    "Pedido": "10962",
                                    "ProductosDistintos": "5"
                                },
                                {
                                    "Pedido": "10963",
                                    "ProductosDistintos": "1"
                                },
                                {
                                    "Pedido": "10964",
                                    "ProductosDistintos": "3"
                                },
                                {
                                    "Pedido": "10965",
                                    "ProductosDistintos": "1"
                                },
                                {
                                    "Pedido": "10966",
                                    "ProductosDistintos": "3"
                                },
                                {
                                    "Pedido": "10967",
                                    "ProductosDistintos": "2"
                                },
                                {
                                    "Pedido": "10968",
                                    "ProductosDistintos": "3"
                                },
                                {
                                    "Pedido": "10969",
                                    "ProductosDistintos": "1"
                                },
                                {
                                    "Pedido": "10970",
                                    "ProductosDistintos": "1"
                                },
                                {
                                    "Pedido": "10971",
                                    "ProductosDistintos": "1"
                                },
                                {
                                    "Pedido": "10972",
                                    "ProductosDistintos": "2"
                                },
                                {
                                    "Pedido": "10973",
                                    "ProductosDistintos": "3"
                                },
                                {
                                    "Pedido": "10974",
                                    "ProductosDistintos": "1"
                                },
                                {
                                    "Pedido": "10975",
                                    "ProductosDistintos": "2"
                                },
                                {
                                    "Pedido": "10976",
                                    "ProductosDistintos": "1"
                                },
                                {
                                    "Pedido": "10977",
                                    "ProductosDistintos": "4"
                                },
                                {
                                    "Pedido": "10978",
                                    "ProductosDistintos": "4"
                                },
                                {
                                    "Pedido": "10979",
                                    "ProductosDistintos": "6"
                                },
                                {
                                    "Pedido": "10980",
                                    "ProductosDistintos": "1"
                                },
                                {
                                    "Pedido": "10981",
                                    "ProductosDistintos": "1"
                                },
                                {
                                    "Pedido": "10982",
                                    "ProductosDistintos": "2"
                                },
                                {
                                    "Pedido": "10983",
                                    "ProductosDistintos": "2"
                                },
                                {
                                    "Pedido": "10984",
                                    "ProductosDistintos": "3"
                                },
                                {
                                    "Pedido": "10985",
                                    "ProductosDistintos": "3"
                                },
                                {
                                    "Pedido": "10986",
                                    "ProductosDistintos": "4"
                                },
                                {
                                    "Pedido": "10987",
                                    "ProductosDistintos": "3"
                                },
                                {
                                    "Pedido": "10988",
                                    "ProductosDistintos": "2"
                                },
                                {
                                    "Pedido": "10989",
                                    "ProductosDistintos": "3"
                                },
                                {
                                    "Pedido": "10990",
                                    "ProductosDistintos": "4"
                                },
                                {
                                    "Pedido": "10991",
                                    "ProductosDistintos": "3"
                                },
                                {
                                    "Pedido": "10992",
                                    "ProductosDistintos": "1"
                                },
                                {
                                    "Pedido": "10993",
                                    "ProductosDistintos": "2"
                                },
                                {
                                    "Pedido": "10994",
                                    "ProductosDistintos": "1"
                                },
                                {
                                    "Pedido": "10995",
                                    "ProductosDistintos": "2"
                                },
                                {
                                    "Pedido": "10996",
                                    "ProductosDistintos": "1"
                                },
                                {
                                    "Pedido": "10997",
                                    "ProductosDistintos": "3"
                                },
                                {
                                    "Pedido": "10998",
                                    "ProductosDistintos": "4"
                                },
                                {
                                    "Pedido": "10999",
                                    "ProductosDistintos": "3"
                                },
                                {
                                    "Pedido": "11000",
                                    "ProductosDistintos": "3"
                                },
                                {
                                    "Pedido": "11001",
                                    "ProductosDistintos": "4"
                                },
                                {
                                    "Pedido": "11002",
                                    "ProductosDistintos": "4"
                                },
                                {
                                    "Pedido": "11003",
                                    "ProductosDistintos": "3"
                                },
                                {
                                    "Pedido": "11004",
                                    "ProductosDistintos": "2"
                                },
                                {
                                    "Pedido": "11005",
                                    "ProductosDistintos": "2"
                                },
                                {
                                    "Pedido": "11006",
                                    "ProductosDistintos": "2"
                                },
                                {
                                    "Pedido": "11007",
                                    "ProductosDistintos": "3"
                                },
                                {
                                    "Pedido": "11008",
                                    "ProductosDistintos": "3"
                                },
                                {
                                    "Pedido": "11009",
                                    "ProductosDistintos": "3"
                                },
                                {
                                    "Pedido": "11010",
                                    "ProductosDistintos": "2"
                                },
                                {
                                    "Pedido": "11011",
                                    "ProductosDistintos": "2"
                                },
                                {
                                    "Pedido": "11012",
                                    "ProductosDistintos": "3"
                                },
                                {
                                    "Pedido": "11013",
                                    "ProductosDistintos": "4"
                                },
                                {
                                    "Pedido": "11014",
                                    "ProductosDistintos": "1"
                                },
                                {
                                    "Pedido": "11015",
                                    "ProductosDistintos": "2"
                                },
                                {
                                    "Pedido": "11016",
                                    "ProductosDistintos": "2"
                                },
                                {
                                    "Pedido": "11017",
                                    "ProductosDistintos": "3"
                                },
                                {
                                    "Pedido": "11018",
                                    "ProductosDistintos": "3"
                                },
                                {
                                    "Pedido": "11019",
                                    "ProductosDistintos": "2"
                                },
                                {
                                    "Pedido": "11020",
                                    "ProductosDistintos": "1"
                                },
                                {
                                    "Pedido": "11021",
                                    "ProductosDistintos": "5"
                                },
                                {
                                    "Pedido": "11022",
                                    "ProductosDistintos": "2"
                                },
                                {
                                    "Pedido": "11023",
                                    "ProductosDistintos": "2"
                                },
                                {
                                    "Pedido": "11024",
                                    "ProductosDistintos": "4"
                                },
                                {
                                    "Pedido": "11025",
                                    "ProductosDistintos": "2"
                                },
                                {
                                    "Pedido": "11026",
                                    "ProductosDistintos": "2"
                                },
                                {
                                    "Pedido": "11027",
                                    "ProductosDistintos": "2"
                                },
                                {
                                    "Pedido": "11028",
                                    "ProductosDistintos": "2"
                                },
                                {
                                    "Pedido": "11029",
                                    "ProductosDistintos": "2"
                                },
                                {
                                    "Pedido": "11030",
                                    "ProductosDistintos": "4"
                                },
                                {
                                    "Pedido": "11031",
                                    "ProductosDistintos": "5"
                                },
                                {
                                    "Pedido": "11032",
                                    "ProductosDistintos": "3"
                                },
                                {
                                    "Pedido": "11033",
                                    "ProductosDistintos": "2"
                                },
                                {
                                    "Pedido": "11034",
                                    "ProductosDistintos": "3"
                                },
                                {
                                    "Pedido": "11035",
                                    "ProductosDistintos": "4"
                                },
                                {
                                    "Pedido": "11036",
                                    "ProductosDistintos": "2"
                                },
                                {
                                    "Pedido": "11037",
                                    "ProductosDistintos": "1"
                                },
                                {
                                    "Pedido": "11038",
                                    "ProductosDistintos": "3"
                                },
                                {
                                    "Pedido": "11039",
                                    "ProductosDistintos": "4"
                                },
                                {
                                    "Pedido": "11040",
                                    "ProductosDistintos": "1"
                                },
                                {
                                    "Pedido": "11041",
                                    "ProductosDistintos": "2"
                                },
                                {
                                    "Pedido": "11042",
                                    "ProductosDistintos": "2"
                                },
                                {
                                    "Pedido": "11043",
                                    "ProductosDistintos": "1"
                                },
                                {
                                    "Pedido": "11044",
                                    "ProductosDistintos": "1"
                                },
                                {
                                    "Pedido": "11045",
                                    "ProductosDistintos": "2"
                                },
                                {
                                    "Pedido": "11046",
                                    "ProductosDistintos": "3"
                                },
                                {
                                    "Pedido": "11047",
                                    "ProductosDistintos": "2"
                                },
                                {
                                    "Pedido": "11048",
                                    "ProductosDistintos": "1"
                                },
                                {
                                    "Pedido": "11049",
                                    "ProductosDistintos": "2"
                                },
                                {
                                    "Pedido": "11050",
                                    "ProductosDistintos": "1"
                                },
                                {
                                    "Pedido": "11051",
                                    "ProductosDistintos": "1"
                                },
                                {
                                    "Pedido": "11052",
                                    "ProductosDistintos": "2"
                                },
                                {
                                    "Pedido": "11053",
                                    "ProductosDistintos": "3"
                                },
                                {
                                    "Pedido": "11054",
                                    "ProductosDistintos": "2"
                                },
                                {
                                    "Pedido": "11055",
                                    "ProductosDistintos": "4"
                                },
                                {
                                    "Pedido": "11056",
                                    "ProductosDistintos": "3"
                                },
                                {
                                    "Pedido": "11057",
                                    "ProductosDistintos": "1"
                                },
                                {
                                    "Pedido": "11058",
                                    "ProductosDistintos": "3"
                                },
                                {
                                    "Pedido": "11059",
                                    "ProductosDistintos": "3"
                                },
                                {
                                    "Pedido": "11060",
                                    "ProductosDistintos": "2"
                                },
                                {
                                    "Pedido": "11061",
                                    "ProductosDistintos": "1"
                                },
                                {
                                    "Pedido": "11062",
                                    "ProductosDistintos": "2"
                                },
                                {
                                    "Pedido": "11063",
                                    "ProductosDistintos": "3"
                                },
                                {
                                    "Pedido": "11064",
                                    "ProductosDistintos": "5"
                                },
                                {
                                    "Pedido": "11065",
                                    "ProductosDistintos": "2"
                                },
                                {
                                    "Pedido": "11066",
                                    "ProductosDistintos": "3"
                                },
                                {
                                    "Pedido": "11067",
                                    "ProductosDistintos": "1"
                                },
                                {
                                    "Pedido": "11068",
                                    "ProductosDistintos": "3"
                                },
                                {
                                    "Pedido": "11069",
                                    "ProductosDistintos": "1"
                                },
                                {
                                    "Pedido": "11070",
                                    "ProductosDistintos": "4"
                                },
                                {
                                    "Pedido": "11071",
                                    "ProductosDistintos": "2"
                                },
                                {
                                    "Pedido": "11072",
                                    "ProductosDistintos": "4"
                                },
                                {
                                    "Pedido": "11073",
                                    "ProductosDistintos": "2"
                                },
                                {
                                    "Pedido": "11074",
                                    "ProductosDistintos": "1"
                                },
                                {
                                    "Pedido": "11075",
                                    "ProductosDistintos": "3"
                                },
                                {
                                    "Pedido": "11076",
                                    "ProductosDistintos": "3"
                                },
                                {
                                    "Pedido": "11077",
                                    "ProductosDistintos": "25"
                                }
                            ]
                        },
                        "text/html": [
                            "<table>",
                            "<tr><th>Pedido</th><th>ProductosDistintos</th></tr>",
                            "<tr><td>10248</td><td>3</td></tr>",
                            "<tr><td>10249</td><td>2</td></tr>",
                            "<tr><td>10250</td><td>3</td></tr>",
                            "<tr><td>10251</td><td>3</td></tr>",
                            "<tr><td>10252</td><td>3</td></tr>",
                            "<tr><td>10253</td><td>3</td></tr>",
                            "<tr><td>10254</td><td>3</td></tr>",
                            "<tr><td>10255</td><td>4</td></tr>",
                            "<tr><td>10256</td><td>2</td></tr>",
                            "<tr><td>10257</td><td>3</td></tr>",
                            "<tr><td>10258</td><td>3</td></tr>",
                            "<tr><td>10259</td><td>2</td></tr>",
                            "<tr><td>10260</td><td>4</td></tr>",
                            "<tr><td>10261</td><td>2</td></tr>",
                            "<tr><td>10262</td><td>3</td></tr>",
                            "<tr><td>10263</td><td>4</td></tr>",
                            "<tr><td>10264</td><td>2</td></tr>",
                            "<tr><td>10265</td><td>2</td></tr>",
                            "<tr><td>10266</td><td>1</td></tr>",
                            "<tr><td>10267</td><td>3</td></tr>",
                            "<tr><td>10268</td><td>2</td></tr>",
                            "<tr><td>10269</td><td>2</td></tr>",
                            "<tr><td>10270</td><td>2</td></tr>",
                            "<tr><td>10271</td><td>1</td></tr>",
                            "<tr><td>10272</td><td>3</td></tr>",
                            "<tr><td>10273</td><td>5</td></tr>",
                            "<tr><td>10274</td><td>2</td></tr>",
                            "<tr><td>10275</td><td>2</td></tr>",
                            "<tr><td>10276</td><td>2</td></tr>",
                            "<tr><td>10277</td><td>2</td></tr>",
                            "<tr><td>10278</td><td>4</td></tr>",
                            "<tr><td>10279</td><td>1</td></tr>",
                            "<tr><td>10280</td><td>3</td></tr>",
                            "<tr><td>10281</td><td>3</td></tr>",
                            "<tr><td>10282</td><td>2</td></tr>",
                            "<tr><td>10283</td><td>4</td></tr>",
                            "<tr><td>10284</td><td>4</td></tr>",
                            "<tr><td>10285</td><td>3</td></tr>",
                            "<tr><td>10286</td><td>2</td></tr>",
                            "<tr><td>10287</td><td>3</td></tr>",
                            "<tr><td>10288</td><td>2</td></tr>",
                            "<tr><td>10289</td><td>2</td></tr>",
                            "<tr><td>10290</td><td>4</td></tr>",
                            "<tr><td>10291</td><td>3</td></tr>",
                            "<tr><td>10292</td><td>1</td></tr>",
                            "<tr><td>10293</td><td>4</td></tr>",
                            "<tr><td>10294</td><td>5</td></tr>",
                            "<tr><td>10295</td><td>1</td></tr>",
                            "<tr><td>10296</td><td>3</td></tr>",
                            "<tr><td>10297</td><td>2</td></tr>",
                            "<tr><td>10298</td><td>4</td></tr>",
                            "<tr><td>10299</td><td>2</td></tr>",
                            "<tr><td>10300</td><td>2</td></tr>",
                            "<tr><td>10301</td><td>2</td></tr>",
                            "<tr><td>10302</td><td>3</td></tr>",
                            "<tr><td>10303</td><td>3</td></tr>",
                            "<tr><td>10304</td><td>3</td></tr>",
                            "<tr><td>10305</td><td>3</td></tr>",
                            "<tr><td>10306</td><td>3</td></tr>",
                            "<tr><td>10307</td><td>2</td></tr>",
                            "<tr><td>10308</td><td>2</td></tr>",
                            "<tr><td>10309</td><td>5</td></tr>",
                            "<tr><td>10310</td><td>2</td></tr>",
                            "<tr><td>10311</td><td>2</td></tr>",
                            "<tr><td>10312</td><td>4</td></tr>",
                            "<tr><td>10313</td><td>1</td></tr>",
                            "<tr><td>10314</td><td>3</td></tr>",
                            "<tr><td>10315</td><td>2</td></tr>",
                            "<tr><td>10316</td><td>2</td></tr>",
                            "<tr><td>10317</td><td>1</td></tr>",
                            "<tr><td>10318</td><td>2</td></tr>",
                            "<tr><td>10319</td><td>3</td></tr>",
                            "<tr><td>10320</td><td>1</td></tr>",
                            "<tr><td>10321</td><td>1</td></tr>",
                            "<tr><td>10322</td><td>1</td></tr>",
                            "<tr><td>10323</td><td>3</td></tr>",
                            "<tr><td>10324</td><td>5</td></tr>",
                            "<tr><td>10325</td><td>5</td></tr>",
                            "<tr><td>10326</td><td>3</td></tr>",
                            "<tr><td>10327</td><td>4</td></tr>",
                            "<tr><td>10328</td><td>3</td></tr>",
                            "<tr><td>10329</td><td>4</td></tr>",
                            "<tr><td>10330</td><td>2</td></tr>",
                            "<tr><td>10331</td><td>1</td></tr>",
                            "<tr><td>10332</td><td>3</td></tr>",
                            "<tr><td>10333</td><td>3</td></tr>",
                            "<tr><td>10334</td><td>2</td></tr>",
                            "<tr><td>10335</td><td>4</td></tr>",
                            "<tr><td>10336</td><td>1</td></tr>",
                            "<tr><td>10337</td><td>5</td></tr>",
                            "<tr><td>10338</td><td>2</td></tr>",
                            "<tr><td>10339</td><td>3</td></tr>",
                            "<tr><td>10340</td><td>3</td></tr>",
                            "<tr><td>10341</td><td>2</td></tr>",
                            "<tr><td>10342</td><td>4</td></tr>",
                            "<tr><td>10343</td><td>3</td></tr>",
                            "<tr><td>10344</td><td>2</td></tr>",
                            "<tr><td>10345</td><td>3</td></tr>",
                            "<tr><td>10346</td><td>2</td></tr>",
                            "<tr><td>10347</td><td>4</td></tr>",
                            "<tr><td>10348</td><td>2</td></tr>",
                            "<tr><td>10349</td><td>1</td></tr>",
                            "<tr><td>10350</td><td>2</td></tr>",
                            "<tr><td>10351</td><td>4</td></tr>",
                            "<tr><td>10352</td><td>2</td></tr>",
                            "<tr><td>10353</td><td>2</td></tr>",
                            "<tr><td>10354</td><td>2</td></tr>",
                            "<tr><td>10355</td><td>2</td></tr>",
                            "<tr><td>10356</td><td>3</td></tr>",
                            "<tr><td>10357</td><td>3</td></tr>",
                            "<tr><td>10358</td><td>3</td></tr>",
                            "<tr><td>10359</td><td>3</td></tr>",
                            "<tr><td>10360</td><td>5</td></tr>",
                            "<tr><td>10361</td><td>2</td></tr>",
                            "<tr><td>10362</td><td>3</td></tr>",
                            "<tr><td>10363</td><td>3</td></tr>",
                            "<tr><td>10364</td><td>2</td></tr>",
                            "<tr><td>10365</td><td>1</td></tr>",
                            "<tr><td>10366</td><td>2</td></tr>",
                            "<tr><td>10367</td><td>4</td></tr>",
                            "<tr><td>10368</td><td>4</td></tr>",
                            "<tr><td>10369</td><td>2</td></tr>",
                            "<tr><td>10370</td><td>3</td></tr>",
                            "<tr><td>10371</td><td>1</td></tr>",
                            "<tr><td>10372</td><td>4</td></tr>",
                            "<tr><td>10373</td><td>2</td></tr>",
                            "<tr><td>10374</td><td>2</td></tr>",
                            "<tr><td>10375</td><td>2</td></tr>",
                            "<tr><td>10376</td><td>1</td></tr>",
                            "<tr><td>10377</td><td>2</td></tr>",
                            "<tr><td>10378</td><td>1</td></tr>",
                            "<tr><td>10379</td><td>3</td></tr>",
                            "<tr><td>10380</td><td>4</td></tr>",
                            "<tr><td>10381</td><td>1</td></tr>",
                            "<tr><td>10382</td><td>5</td></tr>",
                            "<tr><td>10383</td><td>3</td></tr>",
                            "<tr><td>10384</td><td>2</td></tr>",
                            "<tr><td>10385</td><td>3</td></tr>",
                            "<tr><td>10386</td><td>2</td></tr>",
                            "<tr><td>10387</td><td>4</td></tr>",
                            "<tr><td>10388</td><td>3</td></tr>",
                            "<tr><td>10389</td><td>4</td></tr>",
                            "<tr><td>10390</td><td>4</td></tr>",
                            "<tr><td>10391</td><td>1</td></tr>",
                            "<tr><td>10392</td><td>1</td></tr>",
                            "<tr><td>10393</td><td>5</td></tr>",
                            "<tr><td>10394</td><td>2</td></tr>",
                            "<tr><td>10395</td><td>3</td></tr>",
                            "<tr><td>10396</td><td>3</td></tr>",
                            "<tr><td>10397</td><td>2</td></tr>",
                            "<tr><td>10398</td><td>2</td></tr>",
                            "<tr><td>10399</td><td>4</td></tr>",
                            "<tr><td>10400</td><td>3</td></tr>",
                            "<tr><td>10401</td><td>4</td></tr>",
                            "<tr><td>10402</td><td>2</td></tr>",
                            "<tr><td>10403</td><td>2</td></tr>",
                            "<tr><td>10404</td><td>3</td></tr>",
                            "<tr><td>10405</td><td>1</td></tr>",
                            "<tr><td>10406</td><td>5</td></tr>",
                            "<tr><td>10407</td><td>3</td></tr>",
                            "<tr><td>10408</td><td>3</td></tr>",
                            "<tr><td>10409</td><td>2</td></tr>",
                            "<tr><td>10410</td><td>2</td></tr>",
                            "<tr><td>10411</td><td>3</td></tr>",
                            "<tr><td>10412</td><td>1</td></tr>",
                            "<tr><td>10413</td><td>3</td></tr>",
                            "<tr><td>10414</td><td>2</td></tr>",
                            "<tr><td>10415</td><td>2</td></tr>",
                            "<tr><td>10416</td><td>3</td></tr>",
                            "<tr><td>10417</td><td>4</td></tr>",
                            "<tr><td>10418</td><td>4</td></tr>",
                            "<tr><td>10419</td><td>2</td></tr>",
                            "<tr><td>10420</td><td>4</td></tr>",
                            "<tr><td>10421</td><td>4</td></tr>",
                            "<tr><td>10422</td><td>1</td></tr>",
                            "<tr><td>10423</td><td>2</td></tr>",
                            "<tr><td>10424</td><td>3</td></tr>",
                            "<tr><td>10425</td><td>2</td></tr>",
                            "<tr><td>10426</td><td>2</td></tr>",
                            "<tr><td>10427</td><td>1</td></tr>",
                            "<tr><td>10428</td><td>1</td></tr>",
                            "<tr><td>10429</td><td>2</td></tr>",
                            "<tr><td>10430</td><td>4</td></tr>",
                            "<tr><td>10431</td><td>3</td></tr>",
                            "<tr><td>10432</td><td>2</td></tr>",
                            "<tr><td>10433</td><td>1</td></tr>",
                            "<tr><td>10434</td><td>2</td></tr>",
                            "<tr><td>10435</td><td>3</td></tr>",
                            "<tr><td>10436</td><td>4</td></tr>",
                            "<tr><td>10437</td><td>1</td></tr>",
                            "<tr><td>10438</td><td>3</td></tr>",
                            "<tr><td>10439</td><td>4</td></tr>",
                            "<tr><td>10440</td><td>4</td></tr>",
                            "<tr><td>10441</td><td>1</td></tr>",
                            "<tr><td>10442</td><td>3</td></tr>",
                            "<tr><td>10443</td><td>2</td></tr>",
                            "<tr><td>10444</td><td>4</td></tr>",
                            "<tr><td>10445</td><td>2</td></tr>",
                            "<tr><td>10446</td><td>4</td></tr>",
                            "<tr><td>10447</td><td>3</td></tr>",
                            "<tr><td>10448</td><td>2</td></tr>",
                            "<tr><td>10449</td><td>3</td></tr>",
                            "<tr><td>10450</td><td>2</td></tr>",
                            "<tr><td>10451</td><td>4</td></tr>",
                            "<tr><td>10452</td><td>2</td></tr>",
                            "<tr><td>10453</td><td>2</td></tr>",
                            "<tr><td>10454</td><td>3</td></tr>",
                            "<tr><td>10455</td><td>4</td></tr>",
                            "<tr><td>10456</td><td>2</td></tr>",
                            "<tr><td>10457</td><td>1</td></tr>",
                            "<tr><td>10458</td><td>5</td></tr>",
                            "<tr><td>10459</td><td>3</td></tr>",
                            "<tr><td>10460</td><td>2</td></tr>",
                            "<tr><td>10461</td><td>3</td></tr>",
                            "<tr><td>10462</td><td>2</td></tr>",
                            "<tr><td>10463</td><td>2</td></tr>",
                            "<tr><td>10464</td><td>4</td></tr>",
                            "<tr><td>10465</td><td>5</td></tr>",
                            "<tr><td>10466</td><td>2</td></tr>",
                            "<tr><td>10467</td><td>2</td></tr>",
                            "<tr><td>10468</td><td>2</td></tr>",
                            "<tr><td>10469</td><td>3</td></tr>",
                            "<tr><td>10470</td><td>3</td></tr>",
                            "<tr><td>10471</td><td>2</td></tr>",
                            "<tr><td>10472</td><td>2</td></tr>",
                            "<tr><td>10473</td><td>2</td></tr>",
                            "<tr><td>10474</td><td>4</td></tr>",
                            "<tr><td>10475</td><td>3</td></tr>",
                            "<tr><td>10476</td><td>2</td></tr>",
                            "<tr><td>10477</td><td>3</td></tr>",
                            "<tr><td>10478</td><td>1</td></tr>",
                            "<tr><td>10479</td><td>4</td></tr>",
                            "<tr><td>10480</td><td>2</td></tr>",
                            "<tr><td>10481</td><td>2</td></tr>",
                            "<tr><td>10482</td><td>1</td></tr>",
                            "<tr><td>10483</td><td>2</td></tr>",
                            "<tr><td>10484</td><td>3</td></tr>",
                            "<tr><td>10485</td><td>4</td></tr>",
                            "<tr><td>10486</td><td>3</td></tr>",
                            "<tr><td>10487</td><td>3</td></tr>",
                            "<tr><td>10488</td><td>2</td></tr>",
                            "<tr><td>10489</td><td>2</td></tr>",
                            "<tr><td>10490</td><td>3</td></tr>",
                            "<tr><td>10491</td><td>2</td></tr>",
                            "<tr><td>10492</td><td>2</td></tr>",
                            "<tr><td>10493</td><td>3</td></tr>",
                            "<tr><td>10494</td><td>1</td></tr>",
                            "<tr><td>10495</td><td>3</td></tr>",
                            "<tr><td>10496</td><td>1</td></tr>",
                            "<tr><td>10497</td><td>3</td></tr>",
                            "<tr><td>10498</td><td>3</td></tr>",
                            "<tr><td>10499</td><td>2</td></tr>",
                            "<tr><td>10500</td><td>2</td></tr>",
                            "<tr><td>10501</td><td>1</td></tr>",
                            "<tr><td>10502</td><td>3</td></tr>",
                            "<tr><td>10503</td><td>2</td></tr>",
                            "<tr><td>10504</td><td>4</td></tr>",
                            "<tr><td>10505</td><td>1</td></tr>",
                            "<tr><td>10506</td><td>2</td></tr>",
                            "<tr><td>10507</td><td>2</td></tr>",
                            "<tr><td>10508</td><td>2</td></tr>",
                            "<tr><td>10509</td><td>1</td></tr>",
                            "<tr><td>10510</td><td>2</td></tr>",
                            "<tr><td>10511</td><td>3</td></tr>",
                            "<tr><td>10512</td><td>4</td></tr>",
                            "<tr><td>10513</td><td>3</td></tr>",
                            "<tr><td>10514</td><td>5</td></tr>",
                            "<tr><td>10515</td><td>5</td></tr>",
                            "<tr><td>10516</td><td>3</td></tr>",
                            "<tr><td>10517</td><td>3</td></tr>",
                            "<tr><td>10518</td><td>3</td></tr>",
                            "<tr><td>10519</td><td>3</td></tr>",
                            "<tr><td>10520</td><td>2</td></tr>",
                            "<tr><td>10521</td><td>3</td></tr>",
                            "<tr><td>10522</td><td>4</td></tr>",
                            "<tr><td>10523</td><td>4</td></tr>",
                            "<tr><td>10524</td><td>4</td></tr>",
                            "<tr><td>10525</td><td>2</td></tr>",
                            "<tr><td>10526</td><td>3</td></tr>",
                            "<tr><td>10527</td><td>2</td></tr>",
                            "<tr><td>10528</td><td>3</td></tr>",
                            "<tr><td>10529</td><td>3</td></tr>",
                            "<tr><td>10530</td><td>4</td></tr>",
                            "<tr><td>10531</td><td>1</td></tr>",
                            "<tr><td>10532</td><td>2</td></tr>",
                            "<tr><td>10533</td><td>3</td></tr>",
                            "<tr><td>10534</td><td>3</td></tr>",
                            "<tr><td>10535</td><td>4</td></tr>",
                            "<tr><td>10536</td><td>4</td></tr>",
                            "<tr><td>10537</td><td>5</td></tr>",
                            "<tr><td>10538</td><td>2</td></tr>",
                            "<tr><td>10539</td><td>4</td></tr>",
                            "<tr><td>10540</td><td>4</td></tr>",
                            "<tr><td>10541</td><td>4</td></tr>",
                            "<tr><td>10542</td><td>2</td></tr>",
                            "<tr><td>10543</td><td>2</td></tr>",
                            "<tr><td>10544</td><td>2</td></tr>",
                            "<tr><td>10545</td><td>1</td></tr>",
                            "<tr><td>10546</td><td>3</td></tr>",
                            "<tr><td>10547</td><td>2</td></tr>",
                            "<tr><td>10548</td><td>2</td></tr>",
                            "<tr><td>10549</td><td>3</td></tr>",
                            "<tr><td>10550</td><td>4</td></tr>",
                            "<tr><td>10551</td><td>3</td></tr>",
                            "<tr><td>10552</td><td>2</td></tr>",
                            "<tr><td>10553</td><td>5</td></tr>",
                            "<tr><td>10554</td><td>4</td></tr>",
                            "<tr><td>10555</td><td>5</td></tr>",
                            "<tr><td>10556</td><td>1</td></tr>",
                            "<tr><td>10557</td><td>2</td></tr>",
                            "<tr><td>10558</td><td>5</td></tr>",
                            "<tr><td>10559</td><td>2</td></tr>",
                            "<tr><td>10560</td><td>2</td></tr>",
                            "<tr><td>10561</td><td>2</td></tr>",
                            "<tr><td>10562</td><td>2</td></tr>",
                            "<tr><td>10563</td><td>2</td></tr>",
                            "<tr><td>10564</td><td>3</td></tr>",
                            "<tr><td>10565</td><td>2</td></tr>",
                            "<tr><td>10566</td><td>3</td></tr>",
                            "<tr><td>10567</td><td>3</td></tr>",
                            "<tr><td>10568</td><td>1</td></tr>",
                            "<tr><td>10569</td><td>2</td></tr>",
                            "<tr><td>10570</td><td>2</td></tr>",
                            "<tr><td>10571</td><td>2</td></tr>",
                            "<tr><td>10572</td><td>4</td></tr>",
                            "<tr><td>10573</td><td>3</td></tr>",
                            "<tr><td>10574</td><td>4</td></tr>",
                            "<tr><td>10575</td><td>4</td></tr>",
                            "<tr><td>10576</td><td>3</td></tr>",
                            "<tr><td>10577</td><td>3</td></tr>",
                            "<tr><td>10578</td><td>2</td></tr>",
                            "<tr><td>10579</td><td>2</td></tr>",
                            "<tr><td>10580</td><td>3</td></tr>",
                            "<tr><td>10581</td><td>1</td></tr>",
                            "<tr><td>10582</td><td>2</td></tr>",
                            "<tr><td>10583</td><td>3</td></tr>",
                            "<tr><td>10584</td><td>1</td></tr>",
                            "<tr><td>10585</td><td>1</td></tr>",
                            "<tr><td>10586</td><td>1</td></tr>",
                            "<tr><td>10587</td><td>3</td></tr>",
                            "<tr><td>10588</td><td>2</td></tr>",
                            "<tr><td>10589</td><td>1</td></tr>",
                            "<tr><td>10590</td><td>2</td></tr>",
                            "<tr><td>10591</td><td>3</td></tr>",
                            "<tr><td>10592</td><td>2</td></tr>",
                            "<tr><td>10593</td><td>3</td></tr>",
                            "<tr><td>10594</td><td>2</td></tr>",
                            "<tr><td>10595</td><td>3</td></tr>",
                            "<tr><td>10596</td><td>3</td></tr>",
                            "<tr><td>10597</td><td>3</td></tr>",
                            "<tr><td>10598</td><td>2</td></tr>",
                            "<tr><td>10599</td><td>1</td></tr>",
                            "<tr><td>10600</td><td>2</td></tr>",
                            "<tr><td>10601</td><td>2</td></tr>",
                            "<tr><td>10602</td><td>1</td></tr>",
                            "<tr><td>10603</td><td>2</td></tr>",
                            "<tr><td>10604</td><td>2</td></tr>",
                            "<tr><td>10605</td><td>4</td></tr>",
                            "<tr><td>10606</td><td>3</td></tr>",
                            "<tr><td>10607</td><td>5</td></tr>",
                            "<tr><td>10608</td><td>1</td></tr>",
                            "<tr><td>10609</td><td>3</td></tr>",
                            "<tr><td>10610</td><td>1</td></tr>",
                            "<tr><td>10611</td><td>3</td></tr>",
                            "<tr><td>10612</td><td>5</td></tr>",
                            "<tr><td>10613</td><td>2</td></tr>",
                            "<tr><td>10614</td><td>3</td></tr>",
                            "<tr><td>10615</td><td>1</td></tr>",
                            "<tr><td>10616</td><td>4</td></tr>",
                            "<tr><td>10617</td><td>1</td></tr>",
                            "<tr><td>10618</td><td>3</td></tr>",
                            "<tr><td>10619</td><td>2</td></tr>",
                            "<tr><td>10620</td><td>2</td></tr>",
                            "<tr><td>10621</td><td>4</td></tr>",
                            "<tr><td>10622</td><td>2</td></tr>",
                            "<tr><td>10623</td><td>5</td></tr>",
                            "<tr><td>10624</td><td>3</td></tr>",
                            "<tr><td>10625</td><td>3</td></tr>",
                            "<tr><td>10626</td><td>3</td></tr>",
                            "<tr><td>10627</td><td>2</td></tr>",
                            "<tr><td>10628</td><td>1</td></tr>",
                            "<tr><td>10629</td><td>2</td></tr>",
                            "<tr><td>10630</td><td>2</td></tr>",
                            "<tr><td>10631</td><td>1</td></tr>",
                            "<tr><td>10632</td><td>2</td></tr>",
                            "<tr><td>10633</td><td>4</td></tr>",
                            "<tr><td>10634</td><td>4</td></tr>",
                            "<tr><td>10635</td><td>3</td></tr>",
                            "<tr><td>10636</td><td>2</td></tr>",
                            "<tr><td>10637</td><td>3</td></tr>",
                            "<tr><td>10638</td><td>3</td></tr>",
                            "<tr><td>10639</td><td>1</td></tr>",
                            "<tr><td>10640</td><td>2</td></tr>",
                            "<tr><td>10641</td><td>2</td></tr>",
                            "<tr><td>10642</td><td>2</td></tr>",
                            "<tr><td>10643</td><td>3</td></tr>",
                            "<tr><td>10644</td><td>3</td></tr>",
                            "<tr><td>10645</td><td>2</td></tr>",
                            "<tr><td>10646</td><td>4</td></tr>",
                            "<tr><td>10647</td><td>2</td></tr>",
                            "<tr><td>10648</td><td>2</td></tr>",
                            "<tr><td>10649</td><td>2</td></tr>",
                            "<tr><td>10650</td><td>3</td></tr>",
                            "<tr><td>10651</td><td>2</td></tr>",
                            "<tr><td>10652</td><td>2</td></tr>",
                            "<tr><td>10653</td><td>2</td></tr>",
                            "<tr><td>10654</td><td>3</td></tr>",
                            "<tr><td>10655</td><td>1</td></tr>",
                            "<tr><td>10656</td><td>3</td></tr>",
                            "<tr><td>10657</td><td>6</td></tr>",
                            "<tr><td>10658</td><td>4</td></tr>",
                            "<tr><td>10659</td><td>3</td></tr>",
                            "<tr><td>10660</td><td>1</td></tr>",
                            "<tr><td>10661</td><td>2</td></tr>",
                            "<tr><td>10662</td><td>1</td></tr>",
                            "<tr><td>10663</td><td>3</td></tr>",
                            "<tr><td>10664</td><td>3</td></tr>",
                            "<tr><td>10665</td><td>3</td></tr>",
                            "<tr><td>10666</td><td>2</td></tr>",
                            "<tr><td>10667</td><td>2</td></tr>",
                            "<tr><td>10668</td><td>3</td></tr>",
                            "<tr><td>10669</td><td>1</td></tr>",
                            "<tr><td>10670</td><td>5</td></tr>",
                            "<tr><td>10671</td><td>3</td></tr>",
                            "<tr><td>10672</td><td>2</td></tr>",
                            "<tr><td>10673</td><td>3</td></tr>",
                            "<tr><td>10674</td><td>1</td></tr>",
                            "<tr><td>10675</td><td>3</td></tr>",
                            "<tr><td>10676</td><td>3</td></tr>",
                            "<tr><td>10677</td><td>2</td></tr>",
                            "<tr><td>10678</td><td>4</td></tr>",
                            "<tr><td>10679</td><td>1</td></tr>",
                            "<tr><td>10680</td><td>3</td></tr>",
                            "<tr><td>10681</td><td>3</td></tr>",
                            "<tr><td>10682</td><td>3</td></tr>",
                            "<tr><td>10683</td><td>1</td></tr>",
                            "<tr><td>10684</td><td>3</td></tr>",
                            "<tr><td>10685</td><td>3</td></tr>",
                            "<tr><td>10686</td><td>2</td></tr>",
                            "<tr><td>10687</td><td>3</td></tr>",
                            "<tr><td>10688</td><td>3</td></tr>",
                            "<tr><td>10689</td><td>1</td></tr>",
                            "<tr><td>10690</td><td>2</td></tr>",
                            "<tr><td>10691</td><td>5</td></tr>",
                            "<tr><td>10692</td><td>1</td></tr>",
                            "<tr><td>10693</td><td>4</td></tr>",
                            "<tr><td>10694</td><td>3</td></tr>",
                            "<tr><td>10695</td><td>3</td></tr>",
                            "<tr><td>10696</td><td>2</td></tr>",
                            "<tr><td>10697</td><td>4</td></tr>",
                            "<tr><td>10698</td><td>5</td></tr>",
                            "<tr><td>10699</td><td>1</td></tr>",
                            "<tr><td>10700</td><td>4</td></tr>",
                            "<tr><td>10701</td><td>3</td></tr>",
                            "<tr><td>10702</td><td>2</td></tr>",
                            "<tr><td>10703</td><td>3</td></tr>",
                            "<tr><td>10704</td><td>3</td></tr>",
                            "<tr><td>10705</td><td>2</td></tr>",
                            "<tr><td>10706</td><td>3</td></tr>",
                            "<tr><td>10707</td><td>3</td></tr>",
                            "<tr><td>10708</td><td>2</td></tr>",
                            "<tr><td>10709</td><td>3</td></tr>",
                            "<tr><td>10710</td><td>2</td></tr>",
                            "<tr><td>10711</td><td>3</td></tr>",
                            "<tr><td>10712</td><td>2</td></tr>",
                            "<tr><td>10713</td><td>4</td></tr>",
                            "<tr><td>10714</td><td>5</td></tr>",
                            "<tr><td>10715</td><td>2</td></tr>",
                            "<tr><td>10716</td><td>3</td></tr>",
                            "<tr><td>10717</td><td>3</td></tr>",
                            "<tr><td>10718</td><td>4</td></tr>",
                            "<tr><td>10719</td><td>3</td></tr>",
                            "<tr><td>10720</td><td>2</td></tr>",
                            "<tr><td>10721</td><td>1</td></tr>",
                            "<tr><td>10722</td><td>4</td></tr>",
                            "<tr><td>10723</td><td>1</td></tr>",
                            "<tr><td>10724</td><td>2</td></tr>",
                            "<tr><td>10725</td><td>3</td></tr>",
                            "<tr><td>10726</td><td>2</td></tr>",
                            "<tr><td>10727</td><td>3</td></tr>",
                            "<tr><td>10728</td><td>4</td></tr>",
                            "<tr><td>10729</td><td>3</td></tr>",
                            "<tr><td>10730</td><td>3</td></tr>",
                            "<tr><td>10731</td><td>2</td></tr>",
                            "<tr><td>10732</td><td>1</td></tr>",
                            "<tr><td>10733</td><td>3</td></tr>",
                            "<tr><td>10734</td><td>3</td></tr>",
                            "<tr><td>10735</td><td>2</td></tr>",
                            "<tr><td>10736</td><td>2</td></tr>",
                            "<tr><td>10737</td><td>2</td></tr>",
                            "<tr><td>10738</td><td>1</td></tr>",
                            "<tr><td>10739</td><td>2</td></tr>",
                            "<tr><td>10740</td><td>4</td></tr>",
                            "<tr><td>10741</td><td>1</td></tr>",
                            "<tr><td>10742</td><td>3</td></tr>",
                            "<tr><td>10743</td><td>1</td></tr>",
                            "<tr><td>10744</td><td>1</td></tr>",
                            "<tr><td>10745</td><td>4</td></tr>",
                            "<tr><td>10746</td><td>4</td></tr>",
                            "<tr><td>10747</td><td>4</td></tr>",
                            "<tr><td>10748</td><td>3</td></tr>",
                            "<tr><td>10749</td><td>3</td></tr>",
                            "<tr><td>10750</td><td>3</td></tr>",
                            "<tr><td>10751</td><td>4</td></tr>",
                            "<tr><td>10752</td><td>2</td></tr>",
                            "<tr><td>10753</td><td>2</td></tr>",
                            "<tr><td>10754</td><td>1</td></tr>",
                            "<tr><td>10755</td><td>4</td></tr>",
                            "<tr><td>10756</td><td>4</td></tr>",
                            "<tr><td>10757</td><td>4</td></tr>",
                            "<tr><td>10758</td><td>3</td></tr>",
                            "<tr><td>10759</td><td>1</td></tr>",
                            "<tr><td>10760</td><td>3</td></tr>",
                            "<tr><td>10761</td><td>2</td></tr>",
                            "<tr><td>10762</td><td>4</td></tr>",
                            "<tr><td>10763</td><td>3</td></tr>",
                            "<tr><td>10764</td><td>2</td></tr>",
                            "<tr><td>10765</td><td>1</td></tr>",
                            "<tr><td>10766</td><td>3</td></tr>",
                            "<tr><td>10767</td><td>1</td></tr>",
                            "<tr><td>10768</td><td>4</td></tr>",
                            "<tr><td>10769</td><td>4</td></tr>",
                            "<tr><td>10770</td><td>1</td></tr>",
                            "<tr><td>10771</td><td>1</td></tr>",
                            "<tr><td>10772</td><td>2</td></tr>",
                            "<tr><td>10773</td><td>3</td></tr>",
                            "<tr><td>10774</td><td>2</td></tr>",
                            "<tr><td>10775</td><td>2</td></tr>",
                            "<tr><td>10776</td><td>4</td></tr>",
                            "<tr><td>10777</td><td>1</td></tr>",
                            "<tr><td>10778</td><td>1</td></tr>",
                            "<tr><td>10779</td><td>2</td></tr>",
                            "<tr><td>10780</td><td>2</td></tr>",
                            "<tr><td>10781</td><td>3</td></tr>",
                            "<tr><td>10782</td><td>1</td></tr>",
                            "<tr><td>10783</td><td>2</td></tr>",
                            "<tr><td>10784</td><td>3</td></tr>",
                            "<tr><td>10785</td><td>2</td></tr>",
                            "<tr><td>10786</td><td>3</td></tr>",
                            "<tr><td>10787</td><td>2</td></tr>",
                            "<tr><td>10788</td><td>2</td></tr>",
                            "<tr><td>10789</td><td>4</td></tr>",
                            "<tr><td>10790</td><td>2</td></tr>",
                            "<tr><td>10791</td><td>2</td></tr>",
                            "<tr><td>10792</td><td>3</td></tr>",
                            "<tr><td>10793</td><td>2</td></tr>",
                            "<tr><td>10794</td><td>2</td></tr>",
                            "<tr><td>10795</td><td>2</td></tr>",
                            "<tr><td>10796</td><td>4</td></tr>",
                            "<tr><td>10797</td><td>1</td></tr>",
                            "<tr><td>10798</td><td>2</td></tr>",
                            "<tr><td>10799</td><td>3</td></tr>",
                            "<tr><td>10800</td><td>3</td></tr>",
                            "<tr><td>10801</td><td>2</td></tr>",
                            "<tr><td>10802</td><td>4</td></tr>",
                            "<tr><td>10803</td><td>3</td></tr>",
                            "<tr><td>10804</td><td>3</td></tr>",
                            "<tr><td>10805</td><td>2</td></tr>",
                            "<tr><td>10806</td><td>3</td></tr>",
                            "<tr><td>10807</td><td>1</td></tr>",
                            "<tr><td>10808</td><td>2</td></tr>",
                            "<tr><td>10809</td><td>1</td></tr>",
                            "<tr><td>10810</td><td>3</td></tr>",
                            "<tr><td>10811</td><td>3</td></tr>",
                            "<tr><td>10812</td><td>3</td></tr>",
                            "<tr><td>10813</td><td>2</td></tr>",
                            "<tr><td>10814</td><td>4</td></tr>",
                            "<tr><td>10815</td><td>1</td></tr>",
                            "<tr><td>10816</td><td>2</td></tr>",
                            "<tr><td>10817</td><td>4</td></tr>",
                            "<tr><td>10818</td><td>2</td></tr>",
                            "<tr><td>10819</td><td>2</td></tr>",
                            "<tr><td>10820</td><td>1</td></tr>",
                            "<tr><td>10821</td><td>2</td></tr>",
                            "<tr><td>10822</td><td>2</td></tr>",
                            "<tr><td>10823</td><td>4</td></tr>",
                            "<tr><td>10824</td><td>2</td></tr>",
                            "<tr><td>10825</td><td>2</td></tr>",
                            "<tr><td>10826</td><td>2</td></tr>",
                            "<tr><td>10827</td><td>2</td></tr>",
                            "<tr><td>10828</td><td>2</td></tr>",
                            "<tr><td>10829</td><td>4</td></tr>",
                            "<tr><td>10830</td><td>4</td></tr>",
                            "<tr><td>10831</td><td>4</td></tr>",
                            "<tr><td>10832</td><td>4</td></tr>",
                            "<tr><td>10833</td><td>3</td></tr>",
                            "<tr><td>10834</td><td>2</td></tr>",
                            "<tr><td>10835</td><td>2</td></tr>",
                            "<tr><td>10836</td><td>5</td></tr>",
                            "<tr><td>10837</td><td>4</td></tr>",
                            "<tr><td>10838</td><td>3</td></tr>",
                            "<tr><td>10839</td><td>2</td></tr>",
                            "<tr><td>10840</td><td>2</td></tr>",
                            "<tr><td>10841</td><td>4</td></tr>",
                            "<tr><td>10842</td><td>4</td></tr>",
                            "<tr><td>10843</td><td>1</td></tr>",
                            "<tr><td>10844</td><td>1</td></tr>",
                            "<tr><td>10845</td><td>5</td></tr>",
                            "<tr><td>10846</td><td>3</td></tr>",
                            "<tr><td>10847</td><td>6</td></tr>",
                            "<tr><td>10848</td><td>2</td></tr>",
                            "<tr><td>10849</td><td>2</td></tr>",
                            "<tr><td>10850</td><td>3</td></tr>",
                            "<tr><td>10851</td><td>4</td></tr>",
                            "<tr><td>10852</td><td>3</td></tr>",
                            "<tr><td>10853</td><td>1</td></tr>",
                            "<tr><td>10854</td><td>2</td></tr>",
                            "<tr><td>10855</td><td>4</td></tr>",
                            "<tr><td>10856</td><td>2</td></tr>",
                            "<tr><td>10857</td><td>3</td></tr>",
                            "<tr><td>10858</td><td>3</td></tr>",
                            "<tr><td>10859</td><td>3</td></tr>",
                            "<tr><td>10860</td><td>2</td></tr>",
                            "<tr><td>10861</td><td>5</td></tr>",
                            "<tr><td>10862</td><td>2</td></tr>",
                            "<tr><td>10863</td><td>2</td></tr>",
                            "<tr><td>10864</td><td>2</td></tr>",
                            "<tr><td>10865</td><td>2</td></tr>",
                            "<tr><td>10866</td><td>3</td></tr>",
                            "<tr><td>10867</td><td>1</td></tr>",
                            "<tr><td>10868</td><td>3</td></tr>",
                            "<tr><td>10869</td><td>4</td></tr>",
                            "<tr><td>10870</td><td>2</td></tr>",
                            "<tr><td>10871</td><td>3</td></tr>",
                            "<tr><td>10872</td><td>4</td></tr>",
                            "<tr><td>10873</td><td>2</td></tr>",
                            "<tr><td>10874</td><td>1</td></tr>",
                            "<tr><td>10875</td><td>3</td></tr>",
                            "<tr><td>10876</td><td>2</td></tr>",
                            "<tr><td>10877</td><td>2</td></tr>",
                            "<tr><td>10878</td><td>1</td></tr>",
                            "<tr><td>10879</td><td>3</td></tr>",
                            "<tr><td>10880</td><td>3</td></tr>",
                            "<tr><td>10881</td><td>1</td></tr>",
                            "<tr><td>10882</td><td>3</td></tr>",
                            "<tr><td>10883</td><td>1</td></tr>",
                            "<tr><td>10884</td><td>3</td></tr>",
                            "<tr><td>10885</td><td>4</td></tr>",
                            "<tr><td>10886</td><td>3</td></tr>",
                            "<tr><td>10887</td><td>1</td></tr>",
                            "<tr><td>10888</td><td>2</td></tr>",
                            "<tr><td>10889</td><td>2</td></tr>",
                            "<tr><td>10890</td><td>3</td></tr>",
                            "<tr><td>10891</td><td>1</td></tr>",
                            "<tr><td>10892</td><td>1</td></tr>",
                            "<tr><td>10893</td><td>5</td></tr>",
                            "<tr><td>10894</td><td>3</td></tr>",
                            "<tr><td>10895</td><td>4</td></tr>",
                            "<tr><td>10896</td><td>2</td></tr>",
                            "<tr><td>10897</td><td>2</td></tr>",
                            "<tr><td>10898</td><td>1</td></tr>",
                            "<tr><td>10899</td><td>1</td></tr>",
                            "<tr><td>10900</td><td>1</td></tr>",
                            "<tr><td>10901</td><td>2</td></tr>",
                            "<tr><td>10902</td><td>2</td></tr>",
                            "<tr><td>10903</td><td>3</td></tr>",
                            "<tr><td>10904</td><td>2</td></tr>",
                            "<tr><td>10905</td><td>1</td></tr>",
                            "<tr><td>10906</td><td>1</td></tr>",
                            "<tr><td>10907</td><td>1</td></tr>",
                            "<tr><td>10908</td><td>2</td></tr>",
                            "<tr><td>10909</td><td>3</td></tr>",
                            "<tr><td>10910</td><td>3</td></tr>",
                            "<tr><td>10911</td><td>3</td></tr>",
                            "<tr><td>10912</td><td>2</td></tr>",
                            "<tr><td>10913</td><td>3</td></tr>",
                            "<tr><td>10914</td><td>1</td></tr>",
                            "<tr><td>10915</td><td>3</td></tr>",
                            "<tr><td>10916</td><td>3</td></tr>",
                            "<tr><td>10917</td><td>2</td></tr>",
                            "<tr><td>10918</td><td>2</td></tr>",
                            "<tr><td>10919</td><td>3</td></tr>",
                            "<tr><td>10920</td><td>1</td></tr>",
                            "<tr><td>10921</td><td>2</td></tr>",
                            "<tr><td>10922</td><td>2</td></tr>",
                            "<tr><td>10923</td><td>3</td></tr>",
                            "<tr><td>10924</td><td>3</td></tr>",
                            "<tr><td>10925</td><td>2</td></tr>",
                            "<tr><td>10926</td><td>4</td></tr>",
                            "<tr><td>10927</td><td>3</td></tr>",
                            "<tr><td>10928</td><td>2</td></tr>",
                            "<tr><td>10929</td><td>3</td></tr>",
                            "<tr><td>10930</td><td>4</td></tr>",
                            "<tr><td>10931</td><td>2</td></tr>",
                            "<tr><td>10932</td><td>4</td></tr>",
                            "<tr><td>10933</td><td>2</td></tr>",
                            "<tr><td>10934</td><td>1</td></tr>",
                            "<tr><td>10935</td><td>3</td></tr>",
                            "<tr><td>10936</td><td>1</td></tr>",
                            "<tr><td>10937</td><td>2</td></tr>",
                            "<tr><td>10938</td><td>4</td></tr>",
                            "<tr><td>10939</td><td>2</td></tr>",
                            "<tr><td>10940</td><td>2</td></tr>",
                            "<tr><td>10941</td><td>4</td></tr>",
                            "<tr><td>10942</td><td>1</td></tr>",
                            "<tr><td>10943</td><td>3</td></tr>",
                            "<tr><td>10944</td><td>3</td></tr>",
                            "<tr><td>10945</td><td>2</td></tr>",
                            "<tr><td>10946</td><td>3</td></tr>",
                            "<tr><td>10947</td><td>1</td></tr>",
                            "<tr><td>10948</td><td>3</td></tr>",
                            "<tr><td>10949</td><td>4</td></tr>",
                            "<tr><td>10950</td><td>1</td></tr>",
                            "<tr><td>10951</td><td>3</td></tr>",
                            "<tr><td>10952</td><td>2</td></tr>",
                            "<tr><td>10953</td><td>2</td></tr>",
                            "<tr><td>10954</td><td>4</td></tr>",
                            "<tr><td>10955</td><td>1</td></tr>",
                            "<tr><td>10956</td><td>3</td></tr>",
                            "<tr><td>10957</td><td>3</td></tr>",
                            "<tr><td>10958</td><td>3</td></tr>",
                            "<tr><td>10959</td><td>1</td></tr>",
                            "<tr><td>10960</td><td>2</td></tr>",
                            "<tr><td>10961</td><td>2</td></tr>",
                            "<tr><td>10962</td><td>5</td></tr>",
                            "<tr><td>10963</td><td>1</td></tr>",
                            "<tr><td>10964</td><td>3</td></tr>",
                            "<tr><td>10965</td><td>1</td></tr>",
                            "<tr><td>10966</td><td>3</td></tr>",
                            "<tr><td>10967</td><td>2</td></tr>",
                            "<tr><td>10968</td><td>3</td></tr>",
                            "<tr><td>10969</td><td>1</td></tr>",
                            "<tr><td>10970</td><td>1</td></tr>",
                            "<tr><td>10971</td><td>1</td></tr>",
                            "<tr><td>10972</td><td>2</td></tr>",
                            "<tr><td>10973</td><td>3</td></tr>",
                            "<tr><td>10974</td><td>1</td></tr>",
                            "<tr><td>10975</td><td>2</td></tr>",
                            "<tr><td>10976</td><td>1</td></tr>",
                            "<tr><td>10977</td><td>4</td></tr>",
                            "<tr><td>10978</td><td>4</td></tr>",
                            "<tr><td>10979</td><td>6</td></tr>",
                            "<tr><td>10980</td><td>1</td></tr>",
                            "<tr><td>10981</td><td>1</td></tr>",
                            "<tr><td>10982</td><td>2</td></tr>",
                            "<tr><td>10983</td><td>2</td></tr>",
                            "<tr><td>10984</td><td>3</td></tr>",
                            "<tr><td>10985</td><td>3</td></tr>",
                            "<tr><td>10986</td><td>4</td></tr>",
                            "<tr><td>10987</td><td>3</td></tr>",
                            "<tr><td>10988</td><td>2</td></tr>",
                            "<tr><td>10989</td><td>3</td></tr>",
                            "<tr><td>10990</td><td>4</td></tr>",
                            "<tr><td>10991</td><td>3</td></tr>",
                            "<tr><td>10992</td><td>1</td></tr>",
                            "<tr><td>10993</td><td>2</td></tr>",
                            "<tr><td>10994</td><td>1</td></tr>",
                            "<tr><td>10995</td><td>2</td></tr>",
                            "<tr><td>10996</td><td>1</td></tr>",
                            "<tr><td>10997</td><td>3</td></tr>",
                            "<tr><td>10998</td><td>4</td></tr>",
                            "<tr><td>10999</td><td>3</td></tr>",
                            "<tr><td>11000</td><td>3</td></tr>",
                            "<tr><td>11001</td><td>4</td></tr>",
                            "<tr><td>11002</td><td>4</td></tr>",
                            "<tr><td>11003</td><td>3</td></tr>",
                            "<tr><td>11004</td><td>2</td></tr>",
                            "<tr><td>11005</td><td>2</td></tr>",
                            "<tr><td>11006</td><td>2</td></tr>",
                            "<tr><td>11007</td><td>3</td></tr>",
                            "<tr><td>11008</td><td>3</td></tr>",
                            "<tr><td>11009</td><td>3</td></tr>",
                            "<tr><td>11010</td><td>2</td></tr>",
                            "<tr><td>11011</td><td>2</td></tr>",
                            "<tr><td>11012</td><td>3</td></tr>",
                            "<tr><td>11013</td><td>4</td></tr>",
                            "<tr><td>11014</td><td>1</td></tr>",
                            "<tr><td>11015</td><td>2</td></tr>",
                            "<tr><td>11016</td><td>2</td></tr>",
                            "<tr><td>11017</td><td>3</td></tr>",
                            "<tr><td>11018</td><td>3</td></tr>",
                            "<tr><td>11019</td><td>2</td></tr>",
                            "<tr><td>11020</td><td>1</td></tr>",
                            "<tr><td>11021</td><td>5</td></tr>",
                            "<tr><td>11022</td><td>2</td></tr>",
                            "<tr><td>11023</td><td>2</td></tr>",
                            "<tr><td>11024</td><td>4</td></tr>",
                            "<tr><td>11025</td><td>2</td></tr>",
                            "<tr><td>11026</td><td>2</td></tr>",
                            "<tr><td>11027</td><td>2</td></tr>",
                            "<tr><td>11028</td><td>2</td></tr>",
                            "<tr><td>11029</td><td>2</td></tr>",
                            "<tr><td>11030</td><td>4</td></tr>",
                            "<tr><td>11031</td><td>5</td></tr>",
                            "<tr><td>11032</td><td>3</td></tr>",
                            "<tr><td>11033</td><td>2</td></tr>",
                            "<tr><td>11034</td><td>3</td></tr>",
                            "<tr><td>11035</td><td>4</td></tr>",
                            "<tr><td>11036</td><td>2</td></tr>",
                            "<tr><td>11037</td><td>1</td></tr>",
                            "<tr><td>11038</td><td>3</td></tr>",
                            "<tr><td>11039</td><td>4</td></tr>",
                            "<tr><td>11040</td><td>1</td></tr>",
                            "<tr><td>11041</td><td>2</td></tr>",
                            "<tr><td>11042</td><td>2</td></tr>",
                            "<tr><td>11043</td><td>1</td></tr>",
                            "<tr><td>11044</td><td>1</td></tr>",
                            "<tr><td>11045</td><td>2</td></tr>",
                            "<tr><td>11046</td><td>3</td></tr>",
                            "<tr><td>11047</td><td>2</td></tr>",
                            "<tr><td>11048</td><td>1</td></tr>",
                            "<tr><td>11049</td><td>2</td></tr>",
                            "<tr><td>11050</td><td>1</td></tr>",
                            "<tr><td>11051</td><td>1</td></tr>",
                            "<tr><td>11052</td><td>2</td></tr>",
                            "<tr><td>11053</td><td>3</td></tr>",
                            "<tr><td>11054</td><td>2</td></tr>",
                            "<tr><td>11055</td><td>4</td></tr>",
                            "<tr><td>11056</td><td>3</td></tr>",
                            "<tr><td>11057</td><td>1</td></tr>",
                            "<tr><td>11058</td><td>3</td></tr>",
                            "<tr><td>11059</td><td>3</td></tr>",
                            "<tr><td>11060</td><td>2</td></tr>",
                            "<tr><td>11061</td><td>1</td></tr>",
                            "<tr><td>11062</td><td>2</td></tr>",
                            "<tr><td>11063</td><td>3</td></tr>",
                            "<tr><td>11064</td><td>5</td></tr>",
                            "<tr><td>11065</td><td>2</td></tr>",
                            "<tr><td>11066</td><td>3</td></tr>",
                            "<tr><td>11067</td><td>1</td></tr>",
                            "<tr><td>11068</td><td>3</td></tr>",
                            "<tr><td>11069</td><td>1</td></tr>",
                            "<tr><td>11070</td><td>4</td></tr>",
                            "<tr><td>11071</td><td>2</td></tr>",
                            "<tr><td>11072</td><td>4</td></tr>",
                            "<tr><td>11073</td><td>2</td></tr>",
                            "<tr><td>11074</td><td>1</td></tr>",
                            "<tr><td>11075</td><td>3</td></tr>",
                            "<tr><td>11076</td><td>3</td></tr>",
                            "<tr><td>11077</td><td>25</td></tr>",
                            "</table>"
                        ]
                    }
                }
            ],
            "execution_count": 9
        },
        {
            "cell_type": "markdown",
            "source": [
                "### 📝 Ejercicio 6\nListar las categorías que han generado más de $50,000 en ventas totales."
            ],
            "metadata": {
                "azdata_cell_guid": "6ad3e579-ed3f-4c64-97aa-f7d56266465a"
            }
        },
        {
            "cell_type": "markdown",
            "source": [
                "- Sumar las ganancias por categoria\n",
                "- Unir productos con categorias con ID\n",
                "- Mostrar aquellas con mas de 50000 en ganancia"
            ],
            "metadata": {
                "azdata_cell_guid": "74cbfa21-b3d2-4ba3-9e5b-5027b6c1a643"
            },
            "attachments": {}
        },
        {
            "cell_type": "code",
            "source": [
                "SELECT c.CategoryName AS Categoria, \r\n",
                "       SUM(od.UnitPrice * od.Quantity * (1 - od.Discount)) AS TotalVentas\r\n",
                "FROM Categories c\r\n",
                "INNER JOIN Products p ON c.CategoryID = p.CategoryID\r\n",
                "INNER JOIN [Order Details] od ON p.ProductID = od.ProductID\r\n",
                "GROUP BY c.CategoryName\r\n",
                "HAVING SUM(od.UnitPrice * od.Quantity * (1 - od.Discount)) > 50000;"
            ],
            "metadata": {
                "azdata_cell_guid": "ecfdcb8d-ebed-443d-ae2c-4640d6411c6f",
                "language": "sql"
            },
            "outputs": [
                {
                    "output_type": "display_data",
                    "data": {
                        "text/html": "(8 rows affected)"
                    },
                    "metadata": {}
                },
                {
                    "output_type": "display_data",
                    "data": {
                        "text/html": "Total execution time: 00:00:00.007"
                    },
                    "metadata": {}
                },
                {
                    "output_type": "execute_result",
                    "metadata": {},
                    "execution_count": 10,
                    "data": {
                        "application/vnd.dataresource+json": {
                            "schema": {
                                "fields": [
                                    {
                                        "name": "Categoria"
                                    },
                                    {
                                        "name": "TotalVentas"
                                    }
                                ]
                            },
                            "data": [
                                {
                                    "Categoria": "Beverages",
                                    "TotalVentas": "267868,1805229187"
                                },
                                {
                                    "Categoria": "Condiments",
                                    "TotalVentas": "106047,08498954773"
                                },
                                {
                                    "Categoria": "Confections",
                                    "TotalVentas": "167357,22483158112"
                                },
                                {
                                    "Categoria": "Dairy Products",
                                    "TotalVentas": "234507,28521728516"
                                },
                                {
                                    "Categoria": "Grains/Cereals",
                                    "TotalVentas": "95744,587474823"
                                },
                                {
                                    "Categoria": "Meat/Poultry",
                                    "TotalVentas": "163022,3590888977"
                                },
                                {
                                    "Categoria": "Produce",
                                    "TotalVentas": "99984,58006858826"
                                },
                                {
                                    "Categoria": "Seafood",
                                    "TotalVentas": "131261,73742485046"
                                }
                            ]
                        },
                        "text/html": [
                            "<table>",
                            "<tr><th>Categoria</th><th>TotalVentas</th></tr>",
                            "<tr><td>Beverages</td><td>267868,1805229187</td></tr>",
                            "<tr><td>Condiments</td><td>106047,08498954773</td></tr>",
                            "<tr><td>Confections</td><td>167357,22483158112</td></tr>",
                            "<tr><td>Dairy Products</td><td>234507,28521728516</td></tr>",
                            "<tr><td>Grains/Cereals</td><td>95744,587474823</td></tr>",
                            "<tr><td>Meat/Poultry</td><td>163022,3590888977</td></tr>",
                            "<tr><td>Produce</td><td>99984,58006858826</td></tr>",
                            "<tr><td>Seafood</td><td>131261,73742485046</td></tr>",
                            "</table>"
                        ]
                    }
                }
            ],
            "execution_count": 10
        }
    ]
}